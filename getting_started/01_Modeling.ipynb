{
 "cells": [
  {
   "cell_type": "markdown",
   "metadata": {
    "pycharm": {
     "name": "#%% md\n"
    }
   },
   "source": [
    "# Modeling\n",
    "\n",
    "- TODO: add notebook description\n",
    "- TODO: add explanations and comments\n",
    "- TODO: add docstring in functions"
   ]
  },
  {
   "cell_type": "markdown",
   "metadata": {
    "pycharm": {
     "name": "#%% md\n"
    }
   },
   "source": [
    "## Table of contents:\n",
    "\n",
    "* [1. Building and evaluating of a simple estimator](#1)\n",
    "    * [1.1 Building and evaluating of a simple estimator](#1.1) \n",
    "    * [1.2 Data preprocessing](#1.2) \n",
    "    * [1.3 Split train/eval sets](#1.3) \n",
    "    * [1.4 Train an XGBoost regressor](#1.4) \n",
    "    * [1.5 Evaluate the model](#1.5) \n",
    "    * [1.6 Make predictions on the test set](#1.6) \n",
    "* [2. Proposing another model and strategy to increase performances](#2)\n",
    "    * [2.1 Data loading](#2.1) \n",
    "    * [2.2 Data preprocessing for FBProphet model](#2.2)\n",
    "    * [2.3 Split train/eval sets](#2.3)\n",
    "    * [2.4 Train a univariate model for business unit 64 in department 127](#2.4)\n",
    "    * [2.5 Make forecasts and evaluate the model](#2.5)\n",
    "    * [2.6 Train and save all models](#2.6)\n"
   ]
  },
  {
   "cell_type": "code",
   "execution_count": 2,
   "metadata": {
    "pycharm": {
     "name": "#%%\n"
    }
   },
   "outputs": [],
   "source": [
    "import os\n",
    "\n",
    "import numpy as np\n",
    "import pandas as pd\n",
    "import matplotlib.pyplot as plt\n",
    "from datetime import datetime, date\n",
    "import time\n",
    "from tqdm.notebook import tqdm\n",
    "\n",
    "import xgboost as xgb\n",
    "from prophet import Prophet\n",
    "from prophet.plot import plot_plotly, plot_components_plotly\n",
    "from prophet.serialize import model_to_json, model_from_json\n",
    "\n",
    "from sklearn.metrics import mean_absolute_error, mean_squared_error, mean_absolute_percentage_error\n",
    "from sklearn.preprocessing import OneHotEncoder\n",
    "import holidays\n",
    "\n",
    "import warnings\n",
    "\n",
    "warnings.filterwarnings('ignore')"
   ]
  },
  {
   "cell_type": "code",
   "execution_count": 3,
   "metadata": {
    "pycharm": {
     "name": "#%%\n"
    }
   },
   "outputs": [],
   "source": [
    "# Global variable for data relative path\n",
    "DATA_PATH = os.path.abspath(\"../data/inputs\")\n",
    "RESULTS_PATH = os.path.abspath(\"../data/outputs\")\n",
    "TRAINED_MODELS_PATH = os.path.abspath(\"../trained_models\")"
   ]
  },
  {
   "cell_type": "markdown",
   "metadata": {
    "pycharm": {
     "name": "#%% md\n"
    }
   },
   "source": [
    "## 1. Building and evaluating of a simple estimator <a class=\"anchor\" id=\"1\"></a>"
   ]
  },
  {
   "cell_type": "markdown",
   "metadata": {
    "pycharm": {
     "name": "#%% md\n"
    }
   },
   "source": [
    "### 1.1 Data loading <a class=\"anchor\" id=\"1.1\"></a>"
   ]
  },
  {
   "cell_type": "code",
   "execution_count": 4,
   "metadata": {
    "pycharm": {
     "name": "#%%\n"
    }
   },
   "outputs": [],
   "source": [
    "data_train = pd.read_csv(os.path.join(DATA_PATH, \"train\", \"train.csv\"))\n",
    "data_test = pd.read_csv(os.path.join(DATA_PATH, \"test\", \"test.csv\"))"
   ]
  },
  {
   "cell_type": "markdown",
   "metadata": {
    "pycharm": {
     "name": "#%% md\n"
    }
   },
   "source": [
    "### 1.2 Data preprocessing <a class=\"anchor\" id=\"1.2\"></a>"
   ]
  },
  {
   "cell_type": "code",
   "execution_count": 4,
   "metadata": {
    "pycharm": {
     "name": "#%%\n"
    }
   },
   "outputs": [],
   "source": [
    "def process_dates(data):\n",
    "    # dates preprocessing\n",
    "    data[\"year\"] = data.day_id.dt.year\n",
    "    data[\"month\"] = data.day_id.dt.month\n",
    "    data[\"week\"] = data.day_id.dt.isocalendar().week\n",
    "    data[\"quarter\"] = data.day_id.dt.quarter\n",
    "\n",
    "    #either a day in the weekly turnover belongs to a holiday\n",
    "    data[\"is_holiday\"] = is_holiday_week(data).astype(int)\n",
    "\n",
    "    return data"
   ]
  },
  {
   "cell_type": "code",
   "execution_count": 5,
   "metadata": {},
   "outputs": [],
   "source": [
    "def one_hot_encoding(data, categorical_columns, training=True):\n",
    "    \"\"\"add one hot encoding of categorical columns\"\"\"\n",
    "\n",
    "    if training:\n",
    "        global ohe  # not recommended doing so, but it's the simplest solution\n",
    "        ohe = OneHotEncoder()\n",
    "        one_hot_encoded_data = ohe.fit_transform(data[categorical_columns])\n",
    "\n",
    "    else:\n",
    "        one_hot_encoded_data = ohe.transform(data[categorical_columns])\n",
    "\n",
    "    one_hot_df = pd.DataFrame(one_hot_encoded_data.toarray(),\n",
    "                              columns=ohe.get_feature_names_out(),\n",
    "                              index=data.index)\n",
    "\n",
    "    return one_hot_df"
   ]
  },
  {
   "cell_type": "code",
   "execution_count": 6,
   "metadata": {},
   "outputs": [],
   "source": [
    "def add_turnover_lags(data, time_lag=4):\n",
    "    \"\"\"add historical data of the last time_lag year\"\"\"\n",
    "\n",
    "    # add empty columns to fill lags\n",
    "    for i in range(time_lag):\n",
    "        lag = np.empty(data.shape[0])\n",
    "        lag[:] = np.nan\n",
    "        data[\"turnover_N-{}\".format(i + 1)] = lag\n",
    "\n",
    "    # get the list of departments and stores\n",
    "    business_units_list = data.but_num_business_unit.unique()\n",
    "    department_list = data.dpt_num_department.unique()\n",
    "\n",
    "    # ingest lags by store and by department\n",
    "    for i in business_units_list:\n",
    "        for j in department_list:\n",
    "            for k in range(1, time_lag + 1):\n",
    "                lag_data = data.loc[\n",
    "                    (data.but_num_business_unit == i) & (data.dpt_num_department == j), \"turnover\"].shift(-52 * k)\n",
    "                if lag_data.shape != 0:\n",
    "                    data.loc[lag_data.index, \"turnover_N-{}\".format(k)] = lag_data\n",
    "\n",
    "    return data"
   ]
  },
  {
   "cell_type": "code",
   "execution_count": 7,
   "metadata": {},
   "outputs": [],
   "source": [
    "def is_holiday_week(data):\n",
    "    #get holiday dates in France from 2012 to 2017\n",
    "    holidays_france = pd.DataFrame(\n",
    "        holidays.France(years=range(2012, 2018)).keys(),\n",
    "        dtype=\"datetime64[ns]\",\n",
    "        columns=[\"holiday_date\"])\n",
    "\n",
    "    # make a tuple of (year, week of year)\n",
    "    holidays_france[\"year\"] = holidays_france[\"holiday_date\"].dt.year\n",
    "    holidays_france[\"week\"] = holidays_france[\"holiday_date\"].dt.isocalendar().week\n",
    "\n",
    "    year_week_tuple = list(holidays_france[[\"year\", \"week\"]].itertuples(index=False, name=None))\n",
    "\n",
    "    # check each row in the data if it belongs to (year, week of the year) tuple\n",
    "    return pd.Series(list(zip(data.year, data.week)), index=data.index).isin(year_week_tuple)"
   ]
  },
  {
   "cell_type": "code",
   "execution_count": 8,
   "metadata": {},
   "outputs": [],
   "source": [
    "def process_data(data, categorical_columns, training=True, time_lag=4):\n",
    "    # set day_id adequate type\n",
    "    data[\"day_id\"] = pd.to_datetime(data[\"day_id\"], infer_datetime_format=True)\n",
    "\n",
    "    # sort data by day_id \n",
    "    data.sort_values(\"day_id\", ascending=False, inplace=True)\n",
    "\n",
    "    # process dates\n",
    "    _ = process_dates(data)\n",
    "\n",
    "    # add time lags \n",
    "    add_turnover_lags(data, time_lag=time_lag)\n",
    "\n",
    "    # one hot encoding\n",
    "    one_hot_encoded_data = one_hot_encoding(data, categorical_columns, training)\n",
    "\n",
    "    # drop old categorical columns\n",
    "    data.drop(columns=categorical_columns, inplace=True)\n",
    "\n",
    "    #concat with the one hot encoded ones\n",
    "    data = pd.concat([data, one_hot_encoded_data], axis=1)\n",
    "\n",
    "    return data\n"
   ]
  },
  {
   "cell_type": "code",
   "execution_count": 9,
   "metadata": {},
   "outputs": [],
   "source": [
    "categorical_columns = [\"dpt_num_department\", \"but_num_business_unit\", \"year\", \"month\", \"week\", \"quarter\"]\n",
    "\n",
    "data_train = process_data(data_train, categorical_columns= categorical_columns, training=True)"
   ]
  },
  {
   "cell_type": "markdown",
   "metadata": {
    "pycharm": {
     "name": "#%% md\n"
    }
   },
   "source": [
    "### 1.3 Split train/eval sets <a class=\"anchor\" id=\"1.3\"></a>\n"
   ]
  },
  {
   "cell_type": "code",
   "execution_count": 10,
   "metadata": {
    "pycharm": {
     "name": "#%%\n"
    }
   },
   "outputs": [],
   "source": [
    "# train on all data except the last month\n",
    "train_idx = data_train.day_id.dt.date <= datetime(year=2017, month=8, day=31).date()"
   ]
  },
  {
   "cell_type": "code",
   "execution_count": 11,
   "metadata": {
    "pycharm": {
     "name": "#%%\n"
    }
   },
   "outputs": [],
   "source": [
    "X = data_train.drop(labels=['turnover', \"day_id\"], axis=1)\n",
    "y = data_train['turnover']"
   ]
  },
  {
   "cell_type": "code",
   "execution_count": 12,
   "metadata": {
    "pycharm": {
     "name": "#%%\n"
    }
   },
   "outputs": [],
   "source": [
    "X_train, y_train = X.loc[train_idx], y.loc[train_idx]\n",
    "X_eval, y_eval = X.loc[~train_idx], y.loc[~train_idx]"
   ]
  },
  {
   "cell_type": "code",
   "execution_count": 13,
   "metadata": {},
   "outputs": [
    {
     "name": "stdout",
     "output_type": "stream",
     "text": [
      "X_train shape: (271369, 406), y_train shape: (271369,)\n",
      "X_eval shape: (6350, 406), y_eval shape: (6350,)\n"
     ]
    }
   ],
   "source": [
    "print(\"X_train shape: {}, y_train shape: {}\".format(X_train.shape, y_train.shape))\n",
    "print(\"X_eval shape: {}, y_eval shape: {}\".format(X_eval.shape, y_eval.shape))"
   ]
  },
  {
   "cell_type": "markdown",
   "metadata": {
    "pycharm": {
     "name": "#%% md\n"
    }
   },
   "source": [
    "### 1.4 Train an XGBoost regressor <a class=\"anchor\" id=\"1.4\"></a>"
   ]
  },
  {
   "cell_type": "markdown",
   "metadata": {},
   "source": [
    "Since Xgboost deals with missing values, we will not remove these"
   ]
  },
  {
   "cell_type": "code",
   "execution_count": 14,
   "metadata": {},
   "outputs": [],
   "source": [
    "xgb_reg = xgb.XGBRegressor(n_estimators=200, n_jobs=-1, max_depth=20, verbosity=1, random_state=42)"
   ]
  },
  {
   "cell_type": "code",
   "execution_count": 15,
   "metadata": {},
   "outputs": [
    {
     "data": {
      "text/plain": [
       "XGBRegressor(base_score=0.5, booster='gbtree', callbacks=None,\n",
       "             colsample_bylevel=1, colsample_bynode=1, colsample_bytree=1,\n",
       "             early_stopping_rounds=None, enable_categorical=False,\n",
       "             eval_metric=None, gamma=0, gpu_id=-1, grow_policy='depthwise',\n",
       "             importance_type=None, interaction_constraints='',\n",
       "             learning_rate=0.300000012, max_bin=256, max_cat_to_onehot=4,\n",
       "             max_delta_step=0, max_depth=20, max_leaves=0, min_child_weight=1,\n",
       "             missing=nan, monotone_constraints='()', n_estimators=200,\n",
       "             n_jobs=-1, num_parallel_tree=1, predictor='auto', random_state=42,\n",
       "             reg_alpha=0, reg_lambda=1, ...)"
      ]
     },
     "execution_count": 15,
     "metadata": {},
     "output_type": "execute_result"
    }
   ],
   "source": [
    "xgb_reg.fit(X_train.astype(float), y_train)"
   ]
  },
  {
   "cell_type": "code",
   "execution_count": 16,
   "metadata": {},
   "outputs": [
    {
     "data": {
      "image/png": "[encoded data removed]",
      "text/plain": [
       "<Figure size 640x480 with 1 Axes>"
      ]
     },
     "metadata": {},
     "output_type": "display_data"
    }
   ],
   "source": [
    "#plot features importance\n",
    "feature_importances = pd.Series(xgb_reg.feature_importances_, index=X_train.columns).sort_values(ascending=False)\n",
    "top_20_features = feature_importances[:20]\n",
    "_ = plt.barh(top_20_features.index, top_20_features)"
   ]
  },
  {
   "cell_type": "code",
   "execution_count": 17,
   "metadata": {},
   "outputs": [
    {
     "name": "stdout",
     "output_type": "stream",
     "text": [
      "Model saved at: /home/jupyter/decathlon_challenge/trained_models/XGBoost/XGBoost_20230102-010307\n"
     ]
    }
   ],
   "source": [
    "# save the model \n",
    "save_path = os.path.join(TRAINED_MODELS_PATH, \"XGBoost\",\"XGBoost_{}\".format(time.strftime(\"%Y%m%d-%H%M%S\")))\n",
    "xgb_reg.save_model(save_path)\n",
    "print(\"Model saved at: {}\".format(save_path))"
   ]
  },
  {
   "cell_type": "markdown",
   "metadata": {
    "pycharm": {
     "name": "#%% md\n"
    }
   },
   "source": [
    "### 1.5 Evaluate the model <a class=\"anchor\" id=\"1.4\"></a>"
   ]
  },
  {
   "cell_type": "markdown",
   "metadata": {},
   "source": [
    "We will use for evaluation MAE and MSE"
   ]
  },
  {
   "cell_type": "code",
   "execution_count": 18,
   "metadata": {
    "pycharm": {
     "name": "#%%\n"
    }
   },
   "outputs": [],
   "source": [
    "# get the predictions\n",
    "y_pred = xgb_reg.predict(X_eval.astype(float))"
   ]
  },
  {
   "cell_type": "code",
   "execution_count": 19,
   "metadata": {
    "pycharm": {
     "name": "#%%\n"
    }
   },
   "outputs": [
    {
     "name": "stdout",
     "output_type": "stream",
     "text": [
      "MAE for eval data: 65.24\n",
      "MSE for eval data: 14824.24\n"
     ]
    }
   ],
   "source": [
    "print(\"MAE for eval data: {:.2f}\".format(mean_absolute_error(y_eval, y_pred)))\n",
    "print(\"MSE for eval data: {:.2f}\".format(mean_squared_error(y_eval, y_pred)))"
   ]
  },
  {
   "cell_type": "markdown",
   "metadata": {},
   "source": [
    "### 1.6 Make predictions on the test set <a class=\"anchor\" id=\"1.5\"></a>"
   ]
  },
  {
   "cell_type": "code",
   "execution_count": 20,
   "metadata": {},
   "outputs": [],
   "source": [
    "def preprocess_test_data(test_data, historical_data_path):\n",
    "    \"\"\"get historical data from data_train\"\"\"\n",
    "\n",
    "    # add an empty turnover column\n",
    "    empty_column = np.empty(test_data.shape[0])\n",
    "    empty_column[:] = np.nan\n",
    "    test_data[\"turnover\"] = empty_column\n",
    "\n",
    "    historical_data = pd.read_csv(historical_data_path)\n",
    "\n",
    "    return pd.concat([historical_data, test_data], axis=0, ignore_index=True)"
   ]
  },
  {
   "cell_type": "code",
   "execution_count": 21,
   "metadata": {
    "pycharm": {
     "name": "#%%\n"
    }
   },
   "outputs": [],
   "source": [
    "# preprocess test_data and add historical data\n",
    "data_test = preprocess_test_data(data_test, os.path.join(DATA_PATH, \"train\", \"train.csv\"))\n",
    "\n",
    "#make a copy of data_test\n",
    "data_test_copy = data_test[data_test[\"turnover\"].isna()].copy()\n",
    "\n",
    "#process data_test\n",
    "data_test = process_data(data_test, categorical_columns= categorical_columns, training=False)\n",
    "\n",
    "#drop train data and get final data_test\n",
    "data_test = data_test[data_test[\"turnover\"].isna()]"
   ]
  },
  {
   "cell_type": "code",
   "execution_count": 22,
   "metadata": {},
   "outputs": [
    {
     "name": "stdout",
     "output_type": "stream",
     "text": [
      "X_test shape: (10136, 406)\n"
     ]
    }
   ],
   "source": [
    "#Get X_test data\n",
    "X_test = data_test.drop(columns=[\"turnover\", \"day_id\"])\n",
    "print(\"X_test shape: {}\".format(X_test.shape))"
   ]
  },
  {
   "cell_type": "code",
   "execution_count": 23,
   "metadata": {
    "pycharm": {
     "name": "#%%\n"
    }
   },
   "outputs": [
    {
     "data": {
      "text/html": [
       "<div>\n",
       "<style scoped>\n",
       "    .dataframe tbody tr th:only-of-type {\n",
       "        vertical-align: middle;\n",
       "    }\n",
       "\n",
       "    .dataframe tbody tr th {\n",
       "        vertical-align: top;\n",
       "    }\n",
       "\n",
       "    .dataframe thead th {\n",
       "        text-align: right;\n",
       "    }\n",
       "</style>\n",
       "<table border=\"1\" class=\"dataframe\">\n",
       "  <thead>\n",
       "    <tr style=\"text-align: right;\">\n",
       "      <th></th>\n",
       "      <th>day_id</th>\n",
       "      <th>but_num_business_unit</th>\n",
       "      <th>dpt_num_department</th>\n",
       "      <th>turnover</th>\n",
       "      <th>turnover_pred</th>\n",
       "    </tr>\n",
       "  </thead>\n",
       "  <tbody>\n",
       "    <tr>\n",
       "      <th>277719</th>\n",
       "      <td>2017-11-25</td>\n",
       "      <td>95</td>\n",
       "      <td>73</td>\n",
       "      <td>NaN</td>\n",
       "      <td>-5.315661</td>\n",
       "    </tr>\n",
       "    <tr>\n",
       "      <th>277720</th>\n",
       "      <td>2017-11-25</td>\n",
       "      <td>4</td>\n",
       "      <td>117</td>\n",
       "      <td>NaN</td>\n",
       "      <td>1241.183350</td>\n",
       "    </tr>\n",
       "    <tr>\n",
       "      <th>277721</th>\n",
       "      <td>2017-11-25</td>\n",
       "      <td>113</td>\n",
       "      <td>127</td>\n",
       "      <td>NaN</td>\n",
       "      <td>798.416138</td>\n",
       "    </tr>\n",
       "    <tr>\n",
       "      <th>277722</th>\n",
       "      <td>2017-11-25</td>\n",
       "      <td>93</td>\n",
       "      <td>117</td>\n",
       "      <td>NaN</td>\n",
       "      <td>665.324524</td>\n",
       "    </tr>\n",
       "    <tr>\n",
       "      <th>277723</th>\n",
       "      <td>2017-11-25</td>\n",
       "      <td>66</td>\n",
       "      <td>127</td>\n",
       "      <td>NaN</td>\n",
       "      <td>1682.889038</td>\n",
       "    </tr>\n",
       "  </tbody>\n",
       "</table>\n",
       "</div>"
      ],
      "text/plain": [
       "            day_id  but_num_business_unit  dpt_num_department  turnover  \\\n",
       "277719  2017-11-25                     95                  73       NaN   \n",
       "277720  2017-11-25                      4                 117       NaN   \n",
       "277721  2017-11-25                    113                 127       NaN   \n",
       "277722  2017-11-25                     93                 117       NaN   \n",
       "277723  2017-11-25                     66                 127       NaN   \n",
       "\n",
       "        turnover_pred  \n",
       "277719      -5.315661  \n",
       "277720    1241.183350  \n",
       "277721     798.416138  \n",
       "277722     665.324524  \n",
       "277723    1682.889038  "
      ]
     },
     "execution_count": 23,
     "metadata": {},
     "output_type": "execute_result"
    }
   ],
   "source": [
    "#make predictions\n",
    "y_pred = xgb_reg.predict(X_test.astype(float))\n",
    "\n",
    "# concat y_pred with X_test\n",
    "y_pred = pd.DataFrame(y_pred, columns=[\"turnover_pred\"], index=data_test.index)\n",
    "results = pd.concat([data_test_copy, y_pred], axis=1)\n",
    "results.head()"
   ]
  },
  {
   "cell_type": "code",
   "execution_count": 24,
   "metadata": {},
   "outputs": [
    {
     "name": "stdout",
     "output_type": "stream",
     "text": [
      "Predictions saved at: /home/jupyter/decathlon_challenge/data/outputs/xgboost_predictions.csv\n"
     ]
    }
   ],
   "source": [
    "# save predictions\n",
    "save_path = os.path.join(RESULTS_PATH, \"xgboost_predictions.csv\")\n",
    "\n",
    "results.to_csv(save_path)\n",
    "print(\"Predictions saved at: {}\".format(save_path))"
   ]
  },
  {
   "cell_type": "markdown",
   "metadata": {
    "pycharm": {
     "name": "#%% md\n"
    }
   },
   "source": [
    "## 2. Proposing another model and strategy to increase performances <a class=\"anchor\" id=\"2\"></a>"
   ]
  },
  {
   "cell_type": "markdown",
   "metadata": {
    "pycharm": {
     "name": "#%% md\n"
    }
   },
   "source": [
    "To improve the results, we can use a multivariate time series strategy to forecast future revenue over eight weeks. The advantage of the multivariate time series model, in addition to dealing with temporality, is that it can also take advantage of the correlation between stores to improve performance.\n",
    "\n",
    "\n",
    "Due to lack of time, we will implement a univariate time series approach. For that, we chose to use FBProphet for rapid developmen where we train each model on a tuple of (department, business unit) turnover. \n",
    "\n",
    "Let's first take as an example the turnover of business unit 64 in department 127. Then we will train all models of all business units and save them to local disk"
   ]
  },
  {
   "cell_type": "markdown",
   "metadata": {
    "pycharm": {
     "name": "#%% md\n"
    }
   },
   "source": [
    "### 2.1 Data loading <a class=\"anchor\" id=\"2.1\"></a>"
   ]
  },
  {
   "cell_type": "code",
   "execution_count": 3,
   "metadata": {
    "pycharm": {
     "name": "#%%\n"
    }
   },
   "outputs": [],
   "source": [
    "data_train = pd.read_csv(os.path.join(DATA_PATH, \"train\", \"train.csv\"))\n",
    "data_test = pd.read_csv(os.path.join(DATA_PATH, \"test\", \"test.csv\"))\n",
    "\n",
    "# set day_id adequate type\n",
    "data_train[\"day_id\"] = pd.to_datetime(data_train[\"day_id\"], infer_datetime_format=True)\n",
    "data_test[\"day_id\"] = pd.to_datetime(data_test[\"day_id\"], infer_datetime_format=True)"
   ]
  },
  {
   "cell_type": "markdown",
   "metadata": {
    "pycharm": {
     "name": "#%% md\n"
    }
   },
   "source": [
    "### 2.2 Data preprocessing for FBProphet model <a class=\"anchor\" id=\"2.2\"></a>"
   ]
  },
  {
   "cell_type": "code",
   "execution_count": 4,
   "metadata": {
    "pycharm": {
     "name": "#%%\n"
    }
   },
   "outputs": [],
   "source": [
    "def process_data_prophet(data, num_business_unit, num_department):\n",
    "    \"\"\"transform data into FBProphet adequate format\"\"\"\n",
    "\n",
    "    data_prophet = data.loc[:, ['day_id', 'turnover']].rename(columns={\"day_id\": \"ds\", 'turnover': 'y'})\n",
    "    idx_dep_store = (data.but_num_business_unit == num_business_unit) & (data.dpt_num_department == num_department)\n",
    "    return data_prophet[idx_dep_store]"
   ]
  },
  {
   "cell_type": "code",
   "execution_count": 5,
   "metadata": {
    "pycharm": {
     "name": "#%%\n"
    }
   },
   "outputs": [],
   "source": [
    "def get_holidays(years=range(2012, 2024)):\n",
    "    \"\"\"Get holidays in France\"\"\"\n",
    "\n",
    "    holiday = pd.DataFrame([])\n",
    "    for date, name in sorted(holidays.France(years=years).items()):\n",
    "        holiday = pd.concat([holiday, pd.DataFrame({'ds': date, 'holiday': \"FR-Holidays\"}, index=[0])],\n",
    "                            ignore_index=True)\n",
    "    holiday['ds'] = pd.to_datetime(holiday['ds'], format='%Y-%m-%d', errors='ignore')\n",
    "    \n",
    "    return holiday"
   ]
  },
  {
   "cell_type": "code",
   "execution_count": 6,
   "metadata": {
    "pycharm": {
     "name": "#%%\n"
    }
   },
   "outputs": [
    {
     "data": {
      "text/html": [
       "<div>\n",
       "<style scoped>\n",
       "    .dataframe tbody tr th:only-of-type {\n",
       "        vertical-align: middle;\n",
       "    }\n",
       "\n",
       "    .dataframe tbody tr th {\n",
       "        vertical-align: top;\n",
       "    }\n",
       "\n",
       "    .dataframe thead th {\n",
       "        text-align: right;\n",
       "    }\n",
       "</style>\n",
       "<table border=\"1\" class=\"dataframe\">\n",
       "  <thead>\n",
       "    <tr style=\"text-align: right;\">\n",
       "      <th></th>\n",
       "      <th>ds</th>\n",
       "      <th>y</th>\n",
       "    </tr>\n",
       "  </thead>\n",
       "  <tbody>\n",
       "    <tr>\n",
       "      <th>0</th>\n",
       "      <td>2017-09-30</td>\n",
       "      <td>580.308443</td>\n",
       "    </tr>\n",
       "    <tr>\n",
       "      <th>1845</th>\n",
       "      <td>2017-09-23</td>\n",
       "      <td>666.932164</td>\n",
       "    </tr>\n",
       "    <tr>\n",
       "      <th>3200</th>\n",
       "      <td>2017-09-16</td>\n",
       "      <td>915.977585</td>\n",
       "    </tr>\n",
       "    <tr>\n",
       "      <th>4533</th>\n",
       "      <td>2017-09-09</td>\n",
       "      <td>814.823360</td>\n",
       "    </tr>\n",
       "    <tr>\n",
       "      <th>5349</th>\n",
       "      <td>2017-09-02</td>\n",
       "      <td>836.789133</td>\n",
       "    </tr>\n",
       "  </tbody>\n",
       "</table>\n",
       "</div>"
      ],
      "text/plain": [
       "             ds           y\n",
       "0    2017-09-30  580.308443\n",
       "1845 2017-09-23  666.932164\n",
       "3200 2017-09-16  915.977585\n",
       "4533 2017-09-09  814.823360\n",
       "5349 2017-09-02  836.789133"
      ]
     },
     "execution_count": 6,
     "metadata": {},
     "output_type": "execute_result"
    }
   ],
   "source": [
    "# get one department and one business unit data and transform data to adequat format for FBProphet \n",
    "data_prophet = process_data_prophet(data_train, num_business_unit=64, num_department=127)\n",
    "data_prophet.head()"
   ]
  },
  {
   "cell_type": "code",
   "execution_count": 7,
   "metadata": {},
   "outputs": [
    {
     "data": {
      "text/html": [
       "<div>\n",
       "<style scoped>\n",
       "    .dataframe tbody tr th:only-of-type {\n",
       "        vertical-align: middle;\n",
       "    }\n",
       "\n",
       "    .dataframe tbody tr th {\n",
       "        vertical-align: top;\n",
       "    }\n",
       "\n",
       "    .dataframe thead th {\n",
       "        text-align: right;\n",
       "    }\n",
       "</style>\n",
       "<table border=\"1\" class=\"dataframe\">\n",
       "  <thead>\n",
       "    <tr style=\"text-align: right;\">\n",
       "      <th></th>\n",
       "      <th>ds</th>\n",
       "      <th>holiday</th>\n",
       "    </tr>\n",
       "  </thead>\n",
       "  <tbody>\n",
       "    <tr>\n",
       "      <th>0</th>\n",
       "      <td>2012-01-01</td>\n",
       "      <td>FR-Holidays</td>\n",
       "    </tr>\n",
       "    <tr>\n",
       "      <th>1</th>\n",
       "      <td>2012-04-09</td>\n",
       "      <td>FR-Holidays</td>\n",
       "    </tr>\n",
       "    <tr>\n",
       "      <th>2</th>\n",
       "      <td>2012-05-01</td>\n",
       "      <td>FR-Holidays</td>\n",
       "    </tr>\n",
       "    <tr>\n",
       "      <th>3</th>\n",
       "      <td>2012-05-08</td>\n",
       "      <td>FR-Holidays</td>\n",
       "    </tr>\n",
       "    <tr>\n",
       "      <th>4</th>\n",
       "      <td>2012-05-17</td>\n",
       "      <td>FR-Holidays</td>\n",
       "    </tr>\n",
       "  </tbody>\n",
       "</table>\n",
       "</div>"
      ],
      "text/plain": [
       "          ds      holiday\n",
       "0 2012-01-01  FR-Holidays\n",
       "1 2012-04-09  FR-Holidays\n",
       "2 2012-05-01  FR-Holidays\n",
       "3 2012-05-08  FR-Holidays\n",
       "4 2012-05-17  FR-Holidays"
      ]
     },
     "execution_count": 7,
     "metadata": {},
     "output_type": "execute_result"
    }
   ],
   "source": [
    "#get holidays in France\n",
    "holidays_df = get_holidays()\n",
    "holidays_df.head()"
   ]
  },
  {
   "cell_type": "markdown",
   "metadata": {
    "pycharm": {
     "name": "#%% md\n"
    }
   },
   "source": [
    "### 2.3 Split train/eval sets <a class=\"anchor\" id=\"2.3\"></a>"
   ]
  },
  {
   "cell_type": "code",
   "execution_count": 8,
   "metadata": {
    "pycharm": {
     "name": "#%%\n"
    }
   },
   "outputs": [],
   "source": [
    "def train_eval_split(data, year, month, day):\n",
    "    # train on all data except the last month\n",
    "    \n",
    "    train_idx = data_train.day_id.dt.date <= datetime(year=year, month=month, day=day).date()\n",
    "\n",
    "    return data[train_idx], data[~train_idx]"
   ]
  },
  {
   "cell_type": "code",
   "execution_count": 9,
   "metadata": {
    "pycharm": {
     "name": "#%%\n"
    }
   },
   "outputs": [
    {
     "name": "stdout",
     "output_type": "stream",
     "text": [
      "Prophet_train shape: (244, 2), Prophet-eval shape: (5, 2)\n"
     ]
    }
   ],
   "source": [
    "prophet_train, prophet_eval = train_eval_split(data_prophet, year=2017, month=8, day=31)\n",
    "print(\"Prophet_train shape: {}, Prophet-eval shape: {}\".format(prophet_train.shape, prophet_eval.shape))"
   ]
  },
  {
   "cell_type": "markdown",
   "metadata": {},
   "source": [
    "### 2.4 Train a univariate model for business unit 64 in department 127 <a class=\"anchor\" id=\"2.4\"></a>"
   ]
  },
  {
   "cell_type": "code",
   "execution_count": 10,
   "metadata": {
    "pycharm": {
     "name": "#%%\n"
    }
   },
   "outputs": [],
   "source": [
    "def train_prophet_model(data, holidays_df=None):\n",
    "    m = Prophet(  #yearly_seasonality=True, #weekly_seasonality=False, #daily_seasonality=False,\n",
    "        holidays=holidays_df,\n",
    "        changepoint_prior_scale=0.03,\n",
    "        n_changepoints=100,\n",
    "        interval_width=0.9,\n",
    "    )\n",
    "    m.fit(data)\n",
    "    return m"
   ]
  },
  {
   "cell_type": "code",
   "execution_count": 11,
   "metadata": {
    "pycharm": {
     "name": "#%%\n"
    }
   },
   "outputs": [
    {
     "name": "stderr",
     "output_type": "stream",
     "text": [
      "01:42:13 - cmdstanpy - INFO - Chain [1] start processing\n",
      "01:42:13 - cmdstanpy - INFO - Chain [1] done processing\n"
     ]
    }
   ],
   "source": [
    "m = train_prophet_model(prophet_train, holidays_df)"
   ]
  },
  {
   "cell_type": "markdown",
   "metadata": {},
   "source": [
    "### 2.5 Make forecasts and evaluate the model <a class=\"anchor\" id=\"2.5\"></a>"
   ]
  },
  {
   "cell_type": "code",
   "execution_count": 12,
   "metadata": {
    "pycharm": {
     "name": "#%%\n"
    }
   },
   "outputs": [],
   "source": [
    "def make_forecasts(m, periods=10, freq=\"W\", plot_forecasts=True, plot_components=True):\n",
    "    future = m.make_future_dataframe(periods=periods, freq=freq)\n",
    "    forecast = m.predict(future)\n",
    "    if plot_forecasts: plot_plotly(m, forecast).show(\"png\")\n",
    "    if plot_components: plot_components_plotly(m, forecast).show(\"png\")\n",
    "    return forecast"
   ]
  },
  {
   "cell_type": "code",
   "execution_count": 13,
   "metadata": {
    "pycharm": {
     "name": "#%%\n"
    }
   },
   "outputs": [
    {
     "data": {
      "image/png": "[encoded data removed]"
     },
     "metadata": {},
     "output_type": "display_data"
    },
    {
     "data": {
      "image/png": "[encoded data removed]"
     },
     "metadata": {},
     "output_type": "display_data"
    }
   ],
   "source": [
    "forecast = make_forecasts(m, plot_forecasts=True, plot_components=True)"
   ]
  },
  {
   "cell_type": "code",
   "execution_count": 36,
   "metadata": {
    "pycharm": {
     "name": "#%%\n"
    }
   },
   "outputs": [],
   "source": [
    "def get_yhat(data_eval, forecast):\n",
    "    \"\"\"getting predictions from prophet forecasts\"\"\"\n",
    "    \n",
    "    results = pd.merge(data_eval, forecast, how='inner',\n",
    "                       left_on=[data_eval.ds.dt.year, data_eval.ds.dt.isocalendar().week],\n",
    "                       right_on=[forecast.ds.dt.year, forecast.ds.dt.isocalendar().week])\n",
    "    results.index = data_eval.index\n",
    "    \n",
    "    return results"
   ]
  },
  {
   "cell_type": "code",
   "execution_count": 37,
   "metadata": {
    "pycharm": {
     "name": "#%%\n"
    }
   },
   "outputs": [
    {
     "data": {
      "text/html": [
       "<div>\n",
       "<style scoped>\n",
       "    .dataframe tbody tr th:only-of-type {\n",
       "        vertical-align: middle;\n",
       "    }\n",
       "\n",
       "    .dataframe tbody tr th {\n",
       "        vertical-align: top;\n",
       "    }\n",
       "\n",
       "    .dataframe thead th {\n",
       "        text-align: right;\n",
       "    }\n",
       "</style>\n",
       "<table border=\"1\" class=\"dataframe\">\n",
       "  <thead>\n",
       "    <tr style=\"text-align: right;\">\n",
       "      <th></th>\n",
       "      <th>ds_x</th>\n",
       "      <th>yhat_lower</th>\n",
       "      <th>yhat_upper</th>\n",
       "      <th>y</th>\n",
       "      <th>yhat</th>\n",
       "    </tr>\n",
       "  </thead>\n",
       "  <tbody>\n",
       "    <tr>\n",
       "      <th>0</th>\n",
       "      <td>2017-09-30</td>\n",
       "      <td>191.250172</td>\n",
       "      <td>1273.483645</td>\n",
       "      <td>580.308443</td>\n",
       "      <td>757.856240</td>\n",
       "    </tr>\n",
       "    <tr>\n",
       "      <th>1845</th>\n",
       "      <td>2017-09-23</td>\n",
       "      <td>214.395914</td>\n",
       "      <td>1320.449022</td>\n",
       "      <td>666.932164</td>\n",
       "      <td>801.327197</td>\n",
       "    </tr>\n",
       "    <tr>\n",
       "      <th>3200</th>\n",
       "      <td>2017-09-16</td>\n",
       "      <td>235.568896</td>\n",
       "      <td>1297.364673</td>\n",
       "      <td>915.977585</td>\n",
       "      <td>764.938796</td>\n",
       "    </tr>\n",
       "    <tr>\n",
       "      <th>4533</th>\n",
       "      <td>2017-09-09</td>\n",
       "      <td>159.637048</td>\n",
       "      <td>1272.381078</td>\n",
       "      <td>814.823360</td>\n",
       "      <td>705.944806</td>\n",
       "    </tr>\n",
       "    <tr>\n",
       "      <th>5349</th>\n",
       "      <td>2017-09-02</td>\n",
       "      <td>240.633254</td>\n",
       "      <td>1319.616639</td>\n",
       "      <td>836.789133</td>\n",
       "      <td>770.078452</td>\n",
       "    </tr>\n",
       "  </tbody>\n",
       "</table>\n",
       "</div>"
      ],
      "text/plain": [
       "           ds_x  yhat_lower   yhat_upper           y        yhat\n",
       "0    2017-09-30  191.250172  1273.483645  580.308443  757.856240\n",
       "1845 2017-09-23  214.395914  1320.449022  666.932164  801.327197\n",
       "3200 2017-09-16  235.568896  1297.364673  915.977585  764.938796\n",
       "4533 2017-09-09  159.637048  1272.381078  814.823360  705.944806\n",
       "5349 2017-09-02  240.633254  1319.616639  836.789133  770.078452"
      ]
     },
     "execution_count": 37,
     "metadata": {},
     "output_type": "execute_result"
    }
   ],
   "source": [
    "results = get_yhat(prophet_eval, forecast)\n",
    "results[[\"ds_x\", \"yhat_lower\", \"yhat_upper\", \"y\", \"yhat\"]]"
   ]
  },
  {
   "cell_type": "code",
   "execution_count": 38,
   "metadata": {
    "pycharm": {
     "name": "#%%\n"
    }
   },
   "outputs": [
    {
     "name": "stdout",
     "output_type": "stream",
     "text": [
      "MAE for business unit 127, department 64 is: 127.71417092996255\n"
     ]
    }
   ],
   "source": [
    "print(\"MAE for business unit {}, department {} is: {}\".format(127, 64, mean_absolute_error(results[\"y\"], results[\"yhat\"]))\n",
    "     )"
   ]
  },
  {
   "cell_type": "markdown",
   "metadata": {
    "pycharm": {
     "name": "#%%\n"
    }
   },
   "source": [
    "### 2.6 Train and save all models <a class=\"anchor\" id=\"2.6\"></a>"
   ]
  },
  {
   "cell_type": "code",
   "execution_count": 39,
   "metadata": {},
   "outputs": [],
   "source": [
    "def train_univariate_models(train_data, save_path, eval_start_date:date, holiday=None):\n",
    "    \n",
    "    #create a folder to save trained models\n",
    "    if not os.path.exists(os.path.join(save_path, \"FBProphet\")): os.makedirs(\n",
    "        os.path.join(save_path, \"FBProphet\"))\n",
    "    \n",
    "    # get the list of departments and business_units\n",
    "    business_units_list = data_train.but_num_business_unit.unique()\n",
    "    department_list = data_train.dpt_num_department.unique()\n",
    "    \n",
    "    # train a model per business unit and per department. Make eval forecasts for each model at the same time\n",
    "    forecasts = pd.DataFrame()\n",
    "    \n",
    "    for business_unit in tqdm(business_units_list):\n",
    "        for department in department_list:\n",
    "            \n",
    "            #transform data into prophet format\n",
    "            data_prophet = process_data_prophet(data_train, business_unit, department)\n",
    "            \n",
    "            #check if business unit and department exist\n",
    "            if data_prophet.shape[0] != 0:\n",
    "                \n",
    "                prophet_train, prophet_eval = train_eval_split(\n",
    "                    data_prophet, year=eval_start_date.year, month=eval_start_date.month, day=eval_start_date.day)\n",
    "\n",
    "                m = train_prophet_model(prophet_train, holidays_df)\n",
    "\n",
    "                #save model to local disk\n",
    "                model_path = os.path.join(\n",
    "                    save_path, \"FBProphet\", \"model_department_{}_business_unit_{}\".format(department, business_unit))\n",
    "                with open(model_path, 'w') as file_out: file_out.write(model_to_json(m))\n",
    "\n",
    "                \n",
    "                bs_dpt_forecast = make_forecasts(m, plot_forecasts=False, plot_components=False)\n",
    "\n",
    "                results = get_yhat(prophet_eval, bs_dpt_forecast)\n",
    "                forecasts = pd.concat([forecasts, results], axis=0)\n",
    "    return forecasts"
   ]
  },
  {
   "cell_type": "code",
   "execution_count": null,
   "metadata": {
    "pycharm": {
     "name": "#%%\n"
    }
   },
   "outputs": [],
   "source": [
    "forecasts = train_univariate_models(data_train, TRAINED_MODELS_PATH, eval_start_date= date(2017, 8, 31), holiday=holidays_df)"
   ]
  },
  {
   "cell_type": "code",
   "execution_count": 43,
   "metadata": {},
   "outputs": [
    {
     "data": {
      "text/html": [
       "<div>\n",
       "<style scoped>\n",
       "    .dataframe tbody tr th:only-of-type {\n",
       "        vertical-align: middle;\n",
       "    }\n",
       "\n",
       "    .dataframe tbody tr th {\n",
       "        vertical-align: top;\n",
       "    }\n",
       "\n",
       "    .dataframe thead th {\n",
       "        text-align: right;\n",
       "    }\n",
       "</style>\n",
       "<table border=\"1\" class=\"dataframe\">\n",
       "  <thead>\n",
       "    <tr style=\"text-align: right;\">\n",
       "      <th></th>\n",
       "      <th>ds_x</th>\n",
       "      <th>yhat_lower</th>\n",
       "      <th>yhat_upper</th>\n",
       "      <th>y</th>\n",
       "      <th>yhat</th>\n",
       "    </tr>\n",
       "  </thead>\n",
       "  <tbody>\n",
       "    <tr>\n",
       "      <th>0</th>\n",
       "      <td>2017-09-30</td>\n",
       "      <td>223.773385</td>\n",
       "      <td>1312.127868</td>\n",
       "      <td>580.308443</td>\n",
       "      <td>757.856240</td>\n",
       "    </tr>\n",
       "    <tr>\n",
       "      <th>1845</th>\n",
       "      <td>2017-09-23</td>\n",
       "      <td>270.408391</td>\n",
       "      <td>1368.344652</td>\n",
       "      <td>666.932164</td>\n",
       "      <td>801.327197</td>\n",
       "    </tr>\n",
       "    <tr>\n",
       "      <th>3200</th>\n",
       "      <td>2017-09-16</td>\n",
       "      <td>216.809458</td>\n",
       "      <td>1316.973085</td>\n",
       "      <td>915.977585</td>\n",
       "      <td>764.938796</td>\n",
       "    </tr>\n",
       "    <tr>\n",
       "      <th>4533</th>\n",
       "      <td>2017-09-09</td>\n",
       "      <td>160.711823</td>\n",
       "      <td>1241.521871</td>\n",
       "      <td>814.823360</td>\n",
       "      <td>705.944806</td>\n",
       "    </tr>\n",
       "    <tr>\n",
       "      <th>5349</th>\n",
       "      <td>2017-09-02</td>\n",
       "      <td>252.258863</td>\n",
       "      <td>1337.113010</td>\n",
       "      <td>836.789133</td>\n",
       "      <td>770.078452</td>\n",
       "    </tr>\n",
       "    <tr>\n",
       "      <th>...</th>\n",
       "      <td>...</td>\n",
       "      <td>...</td>\n",
       "      <td>...</td>\n",
       "      <td>...</td>\n",
       "      <td>...</td>\n",
       "    </tr>\n",
       "    <tr>\n",
       "      <th>1231</th>\n",
       "      <td>2017-09-30</td>\n",
       "      <td>-0.087626</td>\n",
       "      <td>0.076440</td>\n",
       "      <td>0.000000</td>\n",
       "      <td>-0.001915</td>\n",
       "    </tr>\n",
       "    <tr>\n",
       "      <th>1272</th>\n",
       "      <td>2017-09-23</td>\n",
       "      <td>-0.086822</td>\n",
       "      <td>0.073847</td>\n",
       "      <td>0.000000</td>\n",
       "      <td>-0.005981</td>\n",
       "    </tr>\n",
       "    <tr>\n",
       "      <th>3458</th>\n",
       "      <td>2017-09-16</td>\n",
       "      <td>-0.087901</td>\n",
       "      <td>0.073125</td>\n",
       "      <td>0.000000</td>\n",
       "      <td>-0.009185</td>\n",
       "    </tr>\n",
       "    <tr>\n",
       "      <th>3841</th>\n",
       "      <td>2017-09-09</td>\n",
       "      <td>-0.089894</td>\n",
       "      <td>0.073863</td>\n",
       "      <td>0.000000</td>\n",
       "      <td>-0.007189</td>\n",
       "    </tr>\n",
       "    <tr>\n",
       "      <th>5526</th>\n",
       "      <td>2017-09-02</td>\n",
       "      <td>-0.081503</td>\n",
       "      <td>0.080305</td>\n",
       "      <td>0.000000</td>\n",
       "      <td>-0.002688</td>\n",
       "    </tr>\n",
       "  </tbody>\n",
       "</table>\n",
       "<p>6350 rows × 5 columns</p>\n",
       "</div>"
      ],
      "text/plain": [
       "           ds_x  yhat_lower   yhat_upper           y        yhat\n",
       "0    2017-09-30  223.773385  1312.127868  580.308443  757.856240\n",
       "1845 2017-09-23  270.408391  1368.344652  666.932164  801.327197\n",
       "3200 2017-09-16  216.809458  1316.973085  915.977585  764.938796\n",
       "4533 2017-09-09  160.711823  1241.521871  814.823360  705.944806\n",
       "5349 2017-09-02  252.258863  1337.113010  836.789133  770.078452\n",
       "...         ...         ...          ...         ...         ...\n",
       "1231 2017-09-30   -0.087626     0.076440    0.000000   -0.001915\n",
       "1272 2017-09-23   -0.086822     0.073847    0.000000   -0.005981\n",
       "3458 2017-09-16   -0.087901     0.073125    0.000000   -0.009185\n",
       "3841 2017-09-09   -0.089894     0.073863    0.000000   -0.007189\n",
       "5526 2017-09-02   -0.081503     0.080305    0.000000   -0.002688\n",
       "\n",
       "[6350 rows x 5 columns]"
      ]
     },
     "execution_count": 43,
     "metadata": {},
     "output_type": "execute_result"
    }
   ],
   "source": [
    "forecasts[[\"ds_x\", \"yhat_lower\", \"yhat_upper\", \"y\", \"yhat\"]]"
   ]
  },
  {
   "cell_type": "code",
   "execution_count": 44,
   "metadata": {},
   "outputs": [
    {
     "name": "stdout",
     "output_type": "stream",
     "text": [
      "The Global MAE is: 97.78938933834613\n"
     ]
    }
   ],
   "source": [
    "print(\"The Global MAE is: {}\".format(mean_absolute_error(forecasts[\"y\"], forecasts[\"yhat\"])))"
   ]
  },
  {
   "cell_type": "markdown",
   "metadata": {},
   "source": [
    "The results are less good than the XGboost model, this is due to the hyperparameters adjustment of the models, which I did not have time to do correctly. But, in general and based on the EDA FBProphet can do much better with more working time"
   ]
  },
  {
   "cell_type": "code",
   "execution_count": null,
   "metadata": {},
   "outputs": [],
   "source": []
  }
 ],
 "metadata": {
  "environment": {
   "kernel": "python3",
   "name": "tf2-gpu.2-10.m102",
   "type": "gcloud",
   "uri": "gcr.io/deeplearning-platform-release/tf2-gpu.2-10:m102"
  },
  "kernelspec": {
   "display_name": "Python 3 (ipykernel)",
   "language": "python",
   "name": "python3"
  },
  "language_info": {
   "codemirror_mode": {
    "name": "ipython",
    "version": 3
   },
   "file_extension": ".py",
   "mimetype": "text/x-python",
   "name": "python",
   "nbconvert_exporter": "python",
   "pygments_lexer": "ipython3",
   "version": "3.9.7"
  }
 },
 "nbformat": 4,
 "nbformat_minor": 4
}