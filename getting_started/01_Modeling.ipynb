{
 "cells": [
  {
   "cell_type": "markdown",
   "metadata": {
    "collapsed": true,
    "pycharm": {
     "name": "#%% md\n"
    }
   },
   "source": [
    "# Modeling\n",
    "\n",
    "- TODO: add notebook description"
   ]
  },
  {
   "cell_type": "markdown",
   "metadata": {
    "pycharm": {
     "name": "#%% md\n"
    }
   },
   "source": [
    "## Table of contents:\n",
    "\n",
    "* [1. Data loading and preprocessing](#first-enumeration)"
   ]
  },
  {
   "cell_type": "code",
   "execution_count": 40,
   "metadata": {
    "pycharm": {
     "name": "#%%\n"
    }
   },
   "outputs": [],
   "source": [
    "import os\n",
    "\n",
    "import numpy as np\n",
    "import pandas as pd\n",
    "from datetime import datetime\n",
    "import time\n",
    "\n",
    "import xgboost as xgb\n",
    "\n",
    "from sklearn.metrics import mean_absolute_error, mean_squared_error\n",
    "from sklearn.preprocessing import OneHotEncoder\n",
    "\n",
    "import holidays"
   ]
  },
  {
   "cell_type": "code",
   "execution_count": 41,
   "metadata": {
    "pycharm": {
     "name": "#%%\n"
    }
   },
   "outputs": [],
   "source": [
    "# Global variable for data relative path\n",
    "DATA_PATH = os.path.abspath(\"../data/inputs\")\n",
    "RESULTS_PATH = os.path.abspath(\"../data/outputs\")\n",
    "TRAINED_MODELS_PATH = os.path.abspath(\"../trained_models\")"
   ]
  },
  {
   "cell_type": "markdown",
   "metadata": {
    "pycharm": {
     "name": "#%% md\n"
    }
   },
   "source": [
    "## 1. Data loading and preprocessing"
   ]
  },
  {
   "cell_type": "markdown",
   "metadata": {
    "pycharm": {
     "name": "#%% md\n"
    }
   },
   "source": [
    "### 1.1 Data loading"
   ]
  },
  {
   "cell_type": "code",
   "execution_count": 3,
   "metadata": {
    "pycharm": {
     "name": "#%%\n"
    }
   },
   "outputs": [],
   "source": [
    "data_train = pd.read_csv(os.path.join(DATA_PATH, \"train.csv\"))\n",
    "data_test = pd.read_csv(os.path.join(DATA_PATH, \"test.csv\"))"
   ]
  },
  {
   "cell_type": "markdown",
   "metadata": {
    "pycharm": {
     "name": "#%% md\n"
    }
   },
   "source": [
    "### 1.2 Data preprocessing"
   ]
  },
  {
   "cell_type": "code",
   "execution_count": 4,
   "metadata": {
    "pycharm": {
     "name": "#%%\n"
    }
   },
   "outputs": [],
   "source": [
    "def is_holiday_week(data):\n",
    "\n",
    "    #get holiday dates in France from 2012 to 2017\n",
    "    holidays_france = pd.DataFrame(\n",
    "        holidays.France(years=range(2012, 2018)).keys(),\n",
    "        dtype=\"datetime64[ns]\",\n",
    "        columns=[\"holiday_date\"])\n",
    "\n",
    "    # make a tuple of (year, week of year)\n",
    "    holidays_france[\"year\"] = holidays_france[\"holiday_date\"].dt.year\n",
    "    holidays_france[\"week\"] = holidays_france[\"holiday_date\"].dt.isocalendar().week\n",
    "\n",
    "    year_week_tuple = list(holidays_france[[\"year\", \"week\"]].itertuples(index=False, name=None))\n",
    "\n",
    "    # check each row in the data if it belongs to (year, week of the year) tuple\n",
    "    return pd.Series(list(zip(data.year, data.week)), index=data.index).isin(year_week_tuple)"
   ]
  },
  {
   "cell_type": "code",
   "execution_count": 5,
   "metadata": {
    "pycharm": {
     "name": "#%%\n"
    }
   },
   "outputs": [],
   "source": [
    "def process_dates(data):\n",
    "\n",
    "    # dates preprocessing\n",
    "    data[\"year\"] =  data.day_id.dt.year\n",
    "    data[\"month\"] = data.day_id.dt.month\n",
    "    data[\"week\"] = data.day_id.dt.isocalendar().week\n",
    "    data[\"quarter\"] = data.day_id.dt.quarter\n",
    "\n",
    "    # define the 4 seasons of the year based on months\n",
    "    #seasons = [1, 1, 2, 2, 2, 3, 3, 3, 4, 4, 4, 1]\n",
    "    #month_to_season = dict(zip(range(1,13), seasons))\n",
    "    #data[\"season\"] = data.index.month.map(month_to_season)\n",
    "\n",
    "    #either a day in the weekly turnover belongs to a holiday\n",
    "    data[\"is_holiday\"] = is_holiday_week(data).astype(int)\n",
    "\n",
    "    return data"
   ]
  },
  {
   "cell_type": "code",
   "execution_count": 6,
   "metadata": {},
   "outputs": [],
   "source": [
    "def one_hot_encoding(data, categorical_columns, training=True):\n",
    "    \"\"\"add one hot encoding of categorical columns\"\"\"\n",
    "    \n",
    "    if training:\n",
    "        global ohe # not recommended doing so, but it's the simplest solution\n",
    "        ohe = OneHotEncoder()\n",
    "        one_hot_encoded_data = ohe.fit_transform(data[categorical_columns])\n",
    "        \n",
    "    else:\n",
    "        one_hot_encoded_data = ohe.transform(data[categorical_columns])\n",
    "        \n",
    "    \n",
    "    one_hot_df = pd.DataFrame(one_hot_encoded_data.toarray(),\n",
    "                          columns=ohe.get_feature_names_out(),\n",
    "                          index=data.index)\n",
    "        \n",
    "    return one_hot_df"
   ]
  },
  {
   "cell_type": "code",
   "execution_count": 7,
   "metadata": {},
   "outputs": [],
   "source": [
    "def add_turnover_lags(data, time_lag=4):\n",
    "    \"\"\"add historical data of the last time_lag year\"\"\"\n",
    "    \n",
    "    # add empty columns to fill lags\n",
    "    for i in range(time_lag):\n",
    "        lag = np.empty(data.shape[0])\n",
    "        lag[:] = np.nan\n",
    "        data[\"turnover_N-{}\".format(i+1)] = lag\n",
    "    \n",
    "    # get the list of departments and stores\n",
    "    business_units_list = data.but_num_business_unit.unique()\n",
    "    department_list = data.dpt_num_department.unique()\n",
    "    \n",
    "    # ingest lags by store and by department\n",
    "    for i in business_units_list:\n",
    "        for j in department_list:\n",
    "            for k in range(1, time_lag+1):\n",
    "                lag_data = data.loc[(data.but_num_business_unit==i) & (data.dpt_num_department==j), \"turnover\"].shift(-52*k)\n",
    "                if lag_data.shape !=0 :\n",
    "                    data.loc[lag_data.index, \"turnover_N-{}\".format(k)]= lag_data\n",
    "    \n",
    "    return data"
   ]
  },
  {
   "cell_type": "code",
   "execution_count": 8,
   "metadata": {},
   "outputs": [],
   "source": [
    "def process_data(data, categorical_columns, training=True, time_lag=4):\n",
    "    \n",
    "    # set day_id adequate type\n",
    "    data[\"day_id\"] = pd.to_datetime(data[\"day_id\"], infer_datetime_format=True)\n",
    "    \n",
    "    # sort data by day_id \n",
    "    data.sort_values(\"day_id\", ascending=False, inplace=True)\n",
    "    \n",
    "    # process dates\n",
    "    _ = process_dates(data)\n",
    "    \n",
    "    # add time lags \n",
    "    add_turnover_lags(data, time_lag=time_lag)\n",
    "    \n",
    "    # one hot encoding\n",
    "    one_hot_encoded_data = one_hot_encoding(data, categorical_columns, training)\n",
    "    \n",
    "    # drop old categorical columns\n",
    "    data.drop(columns=categorical_columns, inplace=True)\n",
    "    \n",
    "    #concat with the one hot encoded ones\n",
    "    data = pd.concat([data, one_hot_encoded_data], axis=1)\n",
    "\n",
    "    return data\n",
    "    "
   ]
  },
  {
   "cell_type": "code",
   "execution_count": 9,
   "metadata": {},
   "outputs": [],
   "source": [
    "data_train = process_data(data_train,\n",
    "                          categorical_columns= [\"dpt_num_department\", \"but_num_business_unit\", \"year\", \"month\", \"week\", \"quarter\"],\n",
    "                          training=True)"
   ]
  },
  {
   "cell_type": "markdown",
   "metadata": {
    "pycharm": {
     "name": "#%% md\n"
    }
   },
   "source": [
    "### 1.3 Split train/eval sets\n"
   ]
  },
  {
   "cell_type": "code",
   "execution_count": 10,
   "metadata": {
    "pycharm": {
     "name": "#%%\n"
    }
   },
   "outputs": [],
   "source": [
    "# train on all data except the last month\n",
    "train_idx = data_train.day_id.dt.date <= datetime(year=2017, month=8, day=31).date()"
   ]
  },
  {
   "cell_type": "code",
   "execution_count": 11,
   "metadata": {
    "pycharm": {
     "name": "#%%\n"
    }
   },
   "outputs": [],
   "source": [
    "X = data_train.drop(labels=['turnover', \"day_id\"], axis=1)\n",
    "y = data_train['turnover']"
   ]
  },
  {
   "cell_type": "code",
   "execution_count": 12,
   "metadata": {
    "pycharm": {
     "name": "#%%\n"
    }
   },
   "outputs": [],
   "source": [
    "X_train, y_train = X.loc[train_idx], y.loc[train_idx]\n",
    "X_eval, y_eval = X.loc[~train_idx], y.loc[~train_idx]"
   ]
  },
  {
   "cell_type": "code",
   "execution_count": 13,
   "metadata": {},
   "outputs": [
    {
     "name": "stdout",
     "output_type": "stream",
     "text": [
      "X_train shape: (271369, 406), y_train shape: (271369,)\n",
      "X_eval shape: (6350, 406), y_eval shape: (6350,)\n"
     ]
    }
   ],
   "source": [
    "print(\"X_train shape: {}, y_train shape: {}\".format(X_train.shape, y_train.shape))\n",
    "print(\"X_eval shape: {}, y_eval shape: {}\".format(X_eval.shape, y_eval.shape))"
   ]
  },
  {
   "cell_type": "markdown",
   "metadata": {
    "pycharm": {
     "name": "#%% md\n"
    }
   },
   "source": [
    "## 2. Train an XGboost regressor"
   ]
  },
  {
   "cell_type": "markdown",
   "metadata": {},
   "source": [
    "Since Xgboost deals with missing values, we will not remove these"
   ]
  },
  {
   "cell_type": "code",
   "execution_count": 14,
   "metadata": {},
   "outputs": [],
   "source": [
    "xgb_reg = xgb.XGBRegressor(n_estimators=1, n_jobs=-1, max_depth= 20, verbosity=1, random_state=42)"
   ]
  },
  {
   "cell_type": "code",
   "execution_count": 15,
   "metadata": {},
   "outputs": [
    {
     "data": {
      "text/html": [
       "<style>#sk-container-id-1 {color: black;background-color: white;}#sk-container-id-1 pre{padding: 0;}#sk-container-id-1 div.sk-toggleable {background-color: white;}#sk-container-id-1 label.sk-toggleable__label {cursor: pointer;display: block;width: 100%;margin-bottom: 0;padding: 0.3em;box-sizing: border-box;text-align: center;}#sk-container-id-1 label.sk-toggleable__label-arrow:before {content: \"▸\";float: left;margin-right: 0.25em;color: #696969;}#sk-container-id-1 label.sk-toggleable__label-arrow:hover:before {color: black;}#sk-container-id-1 div.sk-estimator:hover label.sk-toggleable__label-arrow:before {color: black;}#sk-container-id-1 div.sk-toggleable__content {max-height: 0;max-width: 0;overflow: hidden;text-align: left;background-color: #f0f8ff;}#sk-container-id-1 div.sk-toggleable__content pre {margin: 0.2em;color: black;border-radius: 0.25em;background-color: #f0f8ff;}#sk-container-id-1 input.sk-toggleable__control:checked~div.sk-toggleable__content {max-height: 200px;max-width: 100%;overflow: auto;}#sk-container-id-1 input.sk-toggleable__control:checked~label.sk-toggleable__label-arrow:before {content: \"▾\";}#sk-container-id-1 div.sk-estimator input.sk-toggleable__control:checked~label.sk-toggleable__label {background-color: #d4ebff;}#sk-container-id-1 div.sk-label input.sk-toggleable__control:checked~label.sk-toggleable__label {background-color: #d4ebff;}#sk-container-id-1 input.sk-hidden--visually {border: 0;clip: rect(1px 1px 1px 1px);clip: rect(1px, 1px, 1px, 1px);height: 1px;margin: -1px;overflow: hidden;padding: 0;position: absolute;width: 1px;}#sk-container-id-1 div.sk-estimator {font-family: monospace;background-color: #f0f8ff;border: 1px dotted black;border-radius: 0.25em;box-sizing: border-box;margin-bottom: 0.5em;}#sk-container-id-1 div.sk-estimator:hover {background-color: #d4ebff;}#sk-container-id-1 div.sk-parallel-item::after {content: \"\";width: 100%;border-bottom: 1px solid gray;flex-grow: 1;}#sk-container-id-1 div.sk-label:hover label.sk-toggleable__label {background-color: #d4ebff;}#sk-container-id-1 div.sk-serial::before {content: \"\";position: absolute;border-left: 1px solid gray;box-sizing: border-box;top: 0;bottom: 0;left: 50%;z-index: 0;}#sk-container-id-1 div.sk-serial {display: flex;flex-direction: column;align-items: center;background-color: white;padding-right: 0.2em;padding-left: 0.2em;position: relative;}#sk-container-id-1 div.sk-item {position: relative;z-index: 1;}#sk-container-id-1 div.sk-parallel {display: flex;align-items: stretch;justify-content: center;background-color: white;position: relative;}#sk-container-id-1 div.sk-item::before, #sk-container-id-1 div.sk-parallel-item::before {content: \"\";position: absolute;border-left: 1px solid gray;box-sizing: border-box;top: 0;bottom: 0;left: 50%;z-index: -1;}#sk-container-id-1 div.sk-parallel-item {display: flex;flex-direction: column;z-index: 1;position: relative;background-color: white;}#sk-container-id-1 div.sk-parallel-item:first-child::after {align-self: flex-end;width: 50%;}#sk-container-id-1 div.sk-parallel-item:last-child::after {align-self: flex-start;width: 50%;}#sk-container-id-1 div.sk-parallel-item:only-child::after {width: 0;}#sk-container-id-1 div.sk-dashed-wrapped {border: 1px dashed gray;margin: 0 0.4em 0.5em 0.4em;box-sizing: border-box;padding-bottom: 0.4em;background-color: white;}#sk-container-id-1 div.sk-label label {font-family: monospace;font-weight: bold;display: inline-block;line-height: 1.2em;}#sk-container-id-1 div.sk-label-container {text-align: center;}#sk-container-id-1 div.sk-container {/* jupyter's `normalize.less` sets `[hidden] { display: none; }` but bootstrap.min.css set `[hidden] { display: none !important; }` so we also need the `!important` here to be able to override the default hidden behavior on the sphinx rendered scikit-learn.org. See: https://github.com/scikit-learn/scikit-learn/issues/21755 */display: inline-block !important;position: relative;}#sk-container-id-1 div.sk-text-repr-fallback {display: none;}</style><div id=\"sk-container-id-1\" class=\"sk-top-container\"><div class=\"sk-text-repr-fallback\"><pre>XGBRegressor(base_score=0.5, booster=&#x27;gbtree&#x27;, callbacks=None,\n",
       "             colsample_bylevel=1, colsample_bynode=1, colsample_bytree=1,\n",
       "             early_stopping_rounds=None, enable_categorical=False,\n",
       "             eval_metric=None, feature_types=None, gamma=0, gpu_id=-1,\n",
       "             grow_policy=&#x27;depthwise&#x27;, importance_type=None,\n",
       "             interaction_constraints=&#x27;&#x27;, learning_rate=0.300000012, max_bin=256,\n",
       "             max_cat_threshold=64, max_cat_to_onehot=4, max_delta_step=0,\n",
       "             max_depth=20, max_leaves=0, min_child_weight=1, missing=nan,\n",
       "             monotone_constraints=&#x27;()&#x27;, n_estimators=1, n_jobs=-1,\n",
       "             num_parallel_tree=1, predictor=&#x27;auto&#x27;, random_state=42, ...)</pre><b>In a Jupyter environment, please rerun this cell to show the HTML representation or trust the notebook. <br />On GitHub, the HTML representation is unable to render, please try loading this page with nbviewer.org.</b></div><div class=\"sk-container\" hidden><div class=\"sk-item\"><div class=\"sk-estimator sk-toggleable\"><input class=\"sk-toggleable__control sk-hidden--visually\" id=\"sk-estimator-id-1\" type=\"checkbox\" checked><label for=\"sk-estimator-id-1\" class=\"sk-toggleable__label sk-toggleable__label-arrow\">XGBRegressor</label><div class=\"sk-toggleable__content\"><pre>XGBRegressor(base_score=0.5, booster=&#x27;gbtree&#x27;, callbacks=None,\n",
       "             colsample_bylevel=1, colsample_bynode=1, colsample_bytree=1,\n",
       "             early_stopping_rounds=None, enable_categorical=False,\n",
       "             eval_metric=None, feature_types=None, gamma=0, gpu_id=-1,\n",
       "             grow_policy=&#x27;depthwise&#x27;, importance_type=None,\n",
       "             interaction_constraints=&#x27;&#x27;, learning_rate=0.300000012, max_bin=256,\n",
       "             max_cat_threshold=64, max_cat_to_onehot=4, max_delta_step=0,\n",
       "             max_depth=20, max_leaves=0, min_child_weight=1, missing=nan,\n",
       "             monotone_constraints=&#x27;()&#x27;, n_estimators=1, n_jobs=-1,\n",
       "             num_parallel_tree=1, predictor=&#x27;auto&#x27;, random_state=42, ...)</pre></div></div></div></div></div>"
      ],
      "text/plain": [
       "XGBRegressor(base_score=0.5, booster='gbtree', callbacks=None,\n",
       "             colsample_bylevel=1, colsample_bynode=1, colsample_bytree=1,\n",
       "             early_stopping_rounds=None, enable_categorical=False,\n",
       "             eval_metric=None, feature_types=None, gamma=0, gpu_id=-1,\n",
       "             grow_policy='depthwise', importance_type=None,\n",
       "             interaction_constraints='', learning_rate=0.300000012, max_bin=256,\n",
       "             max_cat_threshold=64, max_cat_to_onehot=4, max_delta_step=0,\n",
       "             max_depth=20, max_leaves=0, min_child_weight=1, missing=nan,\n",
       "             monotone_constraints='()', n_estimators=1, n_jobs=-1,\n",
       "             num_parallel_tree=1, predictor='auto', random_state=42, ...)"
      ]
     },
     "execution_count": 15,
     "metadata": {},
     "output_type": "execute_result"
    }
   ],
   "source": [
    "xgb_reg.fit(X_train.astype(float), y_train)"
   ]
  },
  {
   "cell_type": "code",
   "execution_count": 43,
   "metadata": {},
   "outputs": [],
   "source": [
    "# save the model \n",
    "xgb_reg.save_model(os.path.join(TRAINED_MODELS_PATH, \"XGBoost_{}\".format(time.strftime(\"%Y%m%d-%H%M%S\"))))"
   ]
  },
  {
   "cell_type": "markdown",
   "metadata": {
    "pycharm": {
     "name": "#%% md\n"
    }
   },
   "source": [
    "## 3. Evaluate the model"
   ]
  },
  {
   "cell_type": "markdown",
   "metadata": {},
   "source": [
    "We will use for evaluation MAE and MSE"
   ]
  },
  {
   "cell_type": "code",
   "execution_count": 16,
   "metadata": {
    "pycharm": {
     "name": "#%%\n"
    }
   },
   "outputs": [],
   "source": [
    "# get the predictions\n",
    "y_pred = xgb_reg.predict(X_eval.astype(float))"
   ]
  },
  {
   "cell_type": "code",
   "execution_count": 17,
   "metadata": {
    "pycharm": {
     "name": "#%%\n"
    }
   },
   "outputs": [
    {
     "name": "stdout",
     "output_type": "stream",
     "text": [
      "MAE for eval data: 246.62957350810123\n",
      "MSE for eval data: 196182.54886070776\n"
     ]
    }
   ],
   "source": [
    "print(\"MAE for eval data: {}\".format(mean_absolute_error(y_eval, y_pred)))\n",
    "print(\"MSE for eval data: {}\".format(mean_squared_error(y_eval, y_pred)))"
   ]
  },
  {
   "cell_type": "markdown",
   "metadata": {},
   "source": [
    "## 4. Make predictions on the test set"
   ]
  },
  {
   "cell_type": "code",
   "execution_count": 18,
   "metadata": {},
   "outputs": [],
   "source": [
    "def preprocess_test_data(test_data, historical_data_path):\n",
    "    \"\"\"get historical data from data_train\"\"\"\n",
    "    \n",
    "    # add an empty turnover column\n",
    "    empty_column = np.empty(test_data.shape[0])\n",
    "    empty_column[:] = np.nan\n",
    "    test_data[\"turnover\"] = empty_column\n",
    "    \n",
    "    historical_data = pd.read_csv(historical_data_path)\n",
    "    \n",
    "    return pd.concat([historical_data, test_data], axis=0, ignore_index=True)"
   ]
  },
  {
   "cell_type": "code",
   "execution_count": 19,
   "metadata": {
    "pycharm": {
     "name": "#%%\n"
    }
   },
   "outputs": [],
   "source": [
    "# add lags to data_test from historical data\n",
    "data_test = preprocess_test_data(data_test, os.path.join(DATA_PATH, \"train.csv\"))"
   ]
  },
  {
   "cell_type": "code",
   "execution_count": 20,
   "metadata": {
    "pycharm": {
     "name": "#%%\n"
    }
   },
   "outputs": [],
   "source": [
    "data_test_copy = data_test[data_test[\"turnover\"].isna()].copy()"
   ]
  },
  {
   "cell_type": "code",
   "execution_count": 21,
   "metadata": {
    "pycharm": {
     "name": "#%%\n"
    }
   },
   "outputs": [],
   "source": [
    "#process data_test\n",
    "data_test = process_data(data_test, \n",
    "                    categorical_columns= [\"dpt_num_department\", \"but_num_business_unit\", \"year\", \"month\", \"week\", \"quarter\"], \n",
    "                    training=False)"
   ]
  },
  {
   "cell_type": "code",
   "execution_count": 22,
   "metadata": {
    "pycharm": {
     "name": "#%%\n"
    }
   },
   "outputs": [],
   "source": [
    "#drop train data\n",
    "data_test = data_test[data_test[\"turnover\"].isna()]"
   ]
  },
  {
   "cell_type": "code",
   "execution_count": 23,
   "metadata": {},
   "outputs": [],
   "source": [
    "#Get X_test data\n",
    "X_test = data_test.drop(columns=[\"turnover\", \"day_id\"])"
   ]
  },
  {
   "cell_type": "code",
   "execution_count": 24,
   "metadata": {
    "pycharm": {
     "name": "#%%\n"
    }
   },
   "outputs": [
    {
     "name": "stdout",
     "output_type": "stream",
     "text": [
      "X_test shape: (10136, 406)\n"
     ]
    }
   ],
   "source": [
    "print(\"X_test shape: {}\".format(X_test.shape))"
   ]
  },
  {
   "cell_type": "code",
   "execution_count": 35,
   "metadata": {
    "pycharm": {
     "name": "#%%\n"
    }
   },
   "outputs": [
    {
     "data": {
      "text/html": [
       "<div>\n",
       "<style scoped>\n",
       "    .dataframe tbody tr th:only-of-type {\n",
       "        vertical-align: middle;\n",
       "    }\n",
       "\n",
       "    .dataframe tbody tr th {\n",
       "        vertical-align: top;\n",
       "    }\n",
       "\n",
       "    .dataframe thead th {\n",
       "        text-align: right;\n",
       "    }\n",
       "</style>\n",
       "<table border=\"1\" class=\"dataframe\">\n",
       "  <thead>\n",
       "    <tr style=\"text-align: right;\">\n",
       "      <th></th>\n",
       "      <th>day_id</th>\n",
       "      <th>but_num_business_unit</th>\n",
       "      <th>dpt_num_department</th>\n",
       "      <th>turnover</th>\n",
       "      <th>turnover_pred</th>\n",
       "    </tr>\n",
       "  </thead>\n",
       "  <tbody>\n",
       "    <tr>\n",
       "      <th>277719</th>\n",
       "      <td>2017-11-25</td>\n",
       "      <td>95</td>\n",
       "      <td>73</td>\n",
       "      <td>NaN</td>\n",
       "      <td>7.378144</td>\n",
       "    </tr>\n",
       "    <tr>\n",
       "      <th>277720</th>\n",
       "      <td>2017-11-25</td>\n",
       "      <td>4</td>\n",
       "      <td>117</td>\n",
       "      <td>NaN</td>\n",
       "      <td>355.700226</td>\n",
       "    </tr>\n",
       "    <tr>\n",
       "      <th>277721</th>\n",
       "      <td>2017-11-25</td>\n",
       "      <td>113</td>\n",
       "      <td>127</td>\n",
       "      <td>NaN</td>\n",
       "      <td>222.167099</td>\n",
       "    </tr>\n",
       "    <tr>\n",
       "      <th>277722</th>\n",
       "      <td>2017-11-25</td>\n",
       "      <td>93</td>\n",
       "      <td>117</td>\n",
       "      <td>NaN</td>\n",
       "      <td>154.831985</td>\n",
       "    </tr>\n",
       "    <tr>\n",
       "      <th>277723</th>\n",
       "      <td>2017-11-25</td>\n",
       "      <td>66</td>\n",
       "      <td>127</td>\n",
       "      <td>NaN</td>\n",
       "      <td>637.350830</td>\n",
       "    </tr>\n",
       "  </tbody>\n",
       "</table>\n",
       "</div>"
      ],
      "text/plain": [
       "            day_id  but_num_business_unit  dpt_num_department  turnover  \\\n",
       "277719  2017-11-25                     95                  73       NaN   \n",
       "277720  2017-11-25                      4                 117       NaN   \n",
       "277721  2017-11-25                    113                 127       NaN   \n",
       "277722  2017-11-25                     93                 117       NaN   \n",
       "277723  2017-11-25                     66                 127       NaN   \n",
       "\n",
       "        turnover_pred  \n",
       "277719       7.378144  \n",
       "277720     355.700226  \n",
       "277721     222.167099  \n",
       "277722     154.831985  \n",
       "277723     637.350830  "
      ]
     },
     "execution_count": 35,
     "metadata": {},
     "output_type": "execute_result"
    }
   ],
   "source": [
    "#make predictions\n",
    "y_pred = xgb_reg.predict(X_test.astype(float))\n",
    "\n",
    "# concat y_pred with X_test\n",
    "y_pred = pd.DataFrame(y_pred, columns=[\"turnover_pred\"], index=data_test.index)\n",
    "results = pd.concat([data_test_copy, y_pred], axis=1)\n",
    "results.head()"
   ]
  },
  {
   "cell_type": "markdown",
   "metadata": {},
   "source": [
    "Save results"
   ]
  },
  {
   "cell_type": "code",
   "execution_count": 38,
   "metadata": {},
   "outputs": [],
   "source": [
    "results.to_csv(os.path.join(RESULTS_PATH, \"predictions.csv\"))"
   ]
  },
  {
   "cell_type": "code",
   "execution_count": null,
   "metadata": {},
   "outputs": [],
   "source": []
  }
 ],
 "metadata": {
  "kernelspec": {
   "display_name": "Python 3 (ipykernel)",
   "language": "python",
   "name": "python3"
  },
  "language_info": {
   "codemirror_mode": {
    "name": "ipython",
    "version": 3
   },
   "file_extension": ".py",
   "mimetype": "text/x-python",
   "name": "python",
   "nbconvert_exporter": "python",
   "pygments_lexer": "ipython3",
   "version": "3.9.7"
  }
 },
 "nbformat": 4,
 "nbformat_minor": 1
}