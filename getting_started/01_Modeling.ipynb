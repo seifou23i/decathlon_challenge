{
 "cells": [
  {
   "cell_type": "markdown",
   "metadata": {
    "collapsed": true,
    "pycharm": {
     "name": "#%% md\n"
    }
   },
   "source": [
    "# Modeling\n",
    "\n",
    "- TODO: add notebook description"
   ]
  },
  {
   "cell_type": "markdown",
   "source": [
    "## Table of contents:\n",
    "\n",
    "* [1. Data loading and preprocessing](#first-enumeration)"
   ],
   "metadata": {
    "collapsed": false,
    "pycharm": {
     "name": "#%% md\n"
    }
   }
  },
  {
   "cell_type": "code",
   "execution_count": 14,
   "outputs": [],
   "source": [
    "import os\n",
    "\n",
    "import numpy as np\n",
    "from sklearn.model_selection import TimeSeriesSplit\n",
    "import pandas as pd\n",
    "from datetime import datetime\n",
    "\n",
    "from sklearn.ensemble import ExtraTreesRegressor\n",
    "from sklearn.metrics import mean_absolute_error, mean_absolute_percentage_error, mean_squared_error\n",
    "\n",
    "import holidays"
   ],
   "metadata": {
    "collapsed": false,
    "pycharm": {
     "name": "#%%\n"
    }
   }
  },
  {
   "cell_type": "code",
   "execution_count": 15,
   "outputs": [],
   "source": [
    "# Global variable for data relative path\n",
    "DATA_PATH = os.path.abspath(\"../data/inputs\")"
   ],
   "metadata": {
    "collapsed": false,
    "pycharm": {
     "name": "#%%\n"
    }
   }
  },
  {
   "cell_type": "markdown",
   "source": [
    "## 1. Data loading and preprocessing"
   ],
   "metadata": {
    "collapsed": false,
    "pycharm": {
     "name": "#%% md\n"
    }
   }
  },
  {
   "cell_type": "markdown",
   "source": [
    "### 1.1 Data loading"
   ],
   "metadata": {
    "collapsed": false,
    "pycharm": {
     "name": "#%% md\n"
    }
   }
  },
  {
   "cell_type": "code",
   "execution_count": 23,
   "outputs": [],
   "source": [
    "data = pd.read_csv(os.path.join(DATA_PATH, \"train.csv\"))\n",
    "bu_feat = pd.read_csv(os.path.join(DATA_PATH, \"bu_feat.csv\"))"
   ],
   "metadata": {
    "collapsed": false,
    "pycharm": {
     "name": "#%%\n"
    }
   }
  },
  {
   "cell_type": "markdown",
   "source": [
    "### 1.2 Data preprocessing"
   ],
   "metadata": {
    "collapsed": false,
    "pycharm": {
     "name": "#%% md\n"
    }
   }
  },
  {
   "cell_type": "code",
   "execution_count": 24,
   "outputs": [],
   "source": [
    "def is_holiday_week(data):\n",
    "\n",
    "    #get holiday dates in France from 2012 to 2017\n",
    "    holidays_france = pd.DataFrame(\n",
    "        holidays.France(years=range(2012, 2018)).keys(),\n",
    "        dtype=\"datetime64[ns]\",\n",
    "        columns=[\"holiday_date\"])\n",
    "\n",
    "    # make a tuple of (year, week of year)\n",
    "    holidays_france[\"year\"] = holidays_france[\"holiday_date\"].dt.year\n",
    "    holidays_france[\"week\"] = holidays_france[\"holiday_date\"].dt.isocalendar().week\n",
    "\n",
    "    year_week_tuple = list(holidays_france[[\"year\", \"week\"]].itertuples(index=False, name=None))\n",
    "\n",
    "    # check each row in the data if it belongs to (year, week of the year) tuple\n",
    "    return pd.Series(list(zip(data.year, data.week)), index=data.index).isin(year_week_tuple)"
   ],
   "metadata": {
    "collapsed": false,
    "pycharm": {
     "name": "#%%\n"
    }
   }
  },
  {
   "cell_type": "code",
   "execution_count": 25,
   "outputs": [],
   "source": [
    "def process_data(data):\n",
    "\n",
    "    # set day_id adequate type\n",
    "    data[\"day_id\"] = pd.to_datetime(data[\"day_id\"], infer_datetime_format=True)\n",
    "    # set day_id as index\n",
    "    data.set_index(\"day_id\", inplace=True)\n",
    "\n",
    "    # dates preprocessing\n",
    "    data[\"year\"] =  data.index.year\n",
    "    data[\"month\"] = data.index.month\n",
    "    data[\"week\"] = data.index.isocalendar().week\n",
    "    data[\"quarter\"] = data.index.quarter\n",
    "\n",
    "    # define the 4 seasons of the year based on months\n",
    "    seasons = [1, 1, 2, 2, 2, 3, 3, 3, 4, 4, 4, 1]\n",
    "    month_to_season = dict(zip(range(1,13), seasons))\n",
    "    data[\"season\"] = data.index.month.map(month_to_season)\n",
    "\n",
    "    #either a day in the weekly turnover belongs to a holiday\n",
    "    data[\"is_holiday\"] = is_holiday_week(data).astype(int)\n",
    "\n",
    "    #one hot encoding categorical features\n",
    "    data = pd.get_dummies(data,\n",
    "                          columns=[\"dpt_num_department\", \"but_num_business_unit\", \"year\", \"month\", \"week\", \"season\", \"quarter\"],\n",
    "                          prefix= [\"department\", \"business_unit\", \"year\", \"month\", \"week\", \"season\", \"quarter\"])\n",
    "    return data\n"
   ],
   "metadata": {
    "collapsed": false,
    "pycharm": {
     "name": "#%%\n"
    }
   }
  },
  {
   "cell_type": "code",
   "execution_count": 26,
   "outputs": [],
   "source": [
    "data = process_data(data)"
   ],
   "metadata": {
    "collapsed": false,
    "pycharm": {
     "name": "#%%\n"
    }
   }
  },
  {
   "cell_type": "code",
   "execution_count": 28,
   "outputs": [
    {
     "data": {
      "text/plain": "               turnover  is_holiday  department_73  department_88  \\\nday_id                                                              \n2017-09-30   580.308443           0              0              0   \n2017-09-30  1512.995918           0              0              0   \n2017-09-30   668.593556           0              0              1   \n2017-09-30     0.000000           0              0              0   \n2017-09-30     0.000000           0              1              0   \n\n            department_117  department_127  business_unit_1  business_unit_2  \\\nday_id                                                                         \n2017-09-30               0               1                0                0   \n2017-09-30               0               1                0                0   \n2017-09-30               0               0                0                0   \n2017-09-30               0               1                0                0   \n2017-09-30               0               0                0                0   \n\n            business_unit_4  business_unit_5  ...  week_52  week_53  season_1  \\\nday_id                                        ...                               \n2017-09-30                0                0  ...        0        0         0   \n2017-09-30                0                0  ...        0        0         0   \n2017-09-30                1                0  ...        0        0         0   \n2017-09-30                0                0  ...        0        0         0   \n2017-09-30                0                0  ...        0        0         0   \n\n            season_2  season_3  season_4  quarter_1  quarter_2  quarter_3  \\\nday_id                                                                      \n2017-09-30         0         0         1          0          0          1   \n2017-09-30         0         0         1          0          0          1   \n2017-09-30         0         0         1          0          0          1   \n2017-09-30         0         0         1          0          0          1   \n2017-09-30         0         0         1          0          0          1   \n\n            quarter_4  \nday_id                 \n2017-09-30          0  \n2017-09-30          0  \n2017-09-30          0  \n2017-09-30          0  \n2017-09-30          0  \n\n[5 rows x 407 columns]",
      "text/html": "<div>\n<style scoped>\n    .dataframe tbody tr th:only-of-type {\n        vertical-align: middle;\n    }\n\n    .dataframe tbody tr th {\n        vertical-align: top;\n    }\n\n    .dataframe thead th {\n        text-align: right;\n    }\n</style>\n<table border=\"1\" class=\"dataframe\">\n  <thead>\n    <tr style=\"text-align: right;\">\n      <th></th>\n      <th>turnover</th>\n      <th>is_holiday</th>\n      <th>department_73</th>\n      <th>department_88</th>\n      <th>department_117</th>\n      <th>department_127</th>\n      <th>business_unit_1</th>\n      <th>business_unit_2</th>\n      <th>business_unit_4</th>\n      <th>business_unit_5</th>\n      <th>...</th>\n      <th>week_52</th>\n      <th>week_53</th>\n      <th>season_1</th>\n      <th>season_2</th>\n      <th>season_3</th>\n      <th>season_4</th>\n      <th>quarter_1</th>\n      <th>quarter_2</th>\n      <th>quarter_3</th>\n      <th>quarter_4</th>\n    </tr>\n    <tr>\n      <th>day_id</th>\n      <th></th>\n      <th></th>\n      <th></th>\n      <th></th>\n      <th></th>\n      <th></th>\n      <th></th>\n      <th></th>\n      <th></th>\n      <th></th>\n      <th></th>\n      <th></th>\n      <th></th>\n      <th></th>\n      <th></th>\n      <th></th>\n      <th></th>\n      <th></th>\n      <th></th>\n      <th></th>\n      <th></th>\n    </tr>\n  </thead>\n  <tbody>\n    <tr>\n      <th>2017-09-30</th>\n      <td>580.308443</td>\n      <td>0</td>\n      <td>0</td>\n      <td>0</td>\n      <td>0</td>\n      <td>1</td>\n      <td>0</td>\n      <td>0</td>\n      <td>0</td>\n      <td>0</td>\n      <td>...</td>\n      <td>0</td>\n      <td>0</td>\n      <td>0</td>\n      <td>0</td>\n      <td>0</td>\n      <td>1</td>\n      <td>0</td>\n      <td>0</td>\n      <td>1</td>\n      <td>0</td>\n    </tr>\n    <tr>\n      <th>2017-09-30</th>\n      <td>1512.995918</td>\n      <td>0</td>\n      <td>0</td>\n      <td>0</td>\n      <td>0</td>\n      <td>1</td>\n      <td>0</td>\n      <td>0</td>\n      <td>0</td>\n      <td>0</td>\n      <td>...</td>\n      <td>0</td>\n      <td>0</td>\n      <td>0</td>\n      <td>0</td>\n      <td>0</td>\n      <td>1</td>\n      <td>0</td>\n      <td>0</td>\n      <td>1</td>\n      <td>0</td>\n    </tr>\n    <tr>\n      <th>2017-09-30</th>\n      <td>668.593556</td>\n      <td>0</td>\n      <td>0</td>\n      <td>1</td>\n      <td>0</td>\n      <td>0</td>\n      <td>0</td>\n      <td>0</td>\n      <td>1</td>\n      <td>0</td>\n      <td>...</td>\n      <td>0</td>\n      <td>0</td>\n      <td>0</td>\n      <td>0</td>\n      <td>0</td>\n      <td>1</td>\n      <td>0</td>\n      <td>0</td>\n      <td>1</td>\n      <td>0</td>\n    </tr>\n    <tr>\n      <th>2017-09-30</th>\n      <td>0.000000</td>\n      <td>0</td>\n      <td>0</td>\n      <td>0</td>\n      <td>0</td>\n      <td>1</td>\n      <td>0</td>\n      <td>0</td>\n      <td>0</td>\n      <td>0</td>\n      <td>...</td>\n      <td>0</td>\n      <td>0</td>\n      <td>0</td>\n      <td>0</td>\n      <td>0</td>\n      <td>1</td>\n      <td>0</td>\n      <td>0</td>\n      <td>1</td>\n      <td>0</td>\n    </tr>\n    <tr>\n      <th>2017-09-30</th>\n      <td>0.000000</td>\n      <td>0</td>\n      <td>1</td>\n      <td>0</td>\n      <td>0</td>\n      <td>0</td>\n      <td>0</td>\n      <td>0</td>\n      <td>0</td>\n      <td>0</td>\n      <td>...</td>\n      <td>0</td>\n      <td>0</td>\n      <td>0</td>\n      <td>0</td>\n      <td>0</td>\n      <td>1</td>\n      <td>0</td>\n      <td>0</td>\n      <td>1</td>\n      <td>0</td>\n    </tr>\n  </tbody>\n</table>\n<p>5 rows × 407 columns</p>\n</div>"
     },
     "execution_count": 28,
     "metadata": {},
     "output_type": "execute_result"
    }
   ],
   "source": [
    "data.head()"
   ],
   "metadata": {
    "collapsed": false,
    "pycharm": {
     "name": "#%%\n"
    }
   }
  },
  {
   "cell_type": "markdown",
   "source": [
    "### 1.3 Split train/test set\n"
   ],
   "metadata": {
    "collapsed": false,
    "pycharm": {
     "name": "#%% md\n"
    }
   }
  },
  {
   "cell_type": "code",
   "execution_count": 9,
   "outputs": [],
   "source": [
    "# train on all data except the last month\n",
    "train_idx = data.index.date <= datetime(year=2017, month=8, day=31).date()"
   ],
   "metadata": {
    "collapsed": false,
    "pycharm": {
     "name": "#%%\n"
    }
   }
  },
  {
   "cell_type": "code",
   "execution_count": 10,
   "outputs": [],
   "source": [
    "X = data.drop(labels=['turnover'], axis=1)\n",
    "y = data['turnover']"
   ],
   "metadata": {
    "collapsed": false,
    "pycharm": {
     "name": "#%%\n"
    }
   }
  },
  {
   "cell_type": "code",
   "execution_count": 11,
   "outputs": [],
   "source": [
    "X_train, y_train = X.loc[train_idx], y.loc[train_idx]\n",
    "X_test, y_test = X.loc[~train_idx], y.loc[~train_idx]"
   ],
   "metadata": {
    "collapsed": false,
    "pycharm": {
     "name": "#%%\n"
    }
   }
  },
  {
   "cell_type": "markdown",
   "source": [
    "## 2. Train a simple regressor\n"
   ],
   "metadata": {
    "collapsed": false,
    "pycharm": {
     "name": "#%% md\n"
    }
   }
  },
  {
   "cell_type": "code",
   "execution_count": 99,
   "outputs": [],
   "source": [
    "reg = ExtraTreesRegressor(n_estimators=300, random_state=0, )"
   ],
   "metadata": {
    "collapsed": false,
    "pycharm": {
     "name": "#%%\n"
    }
   }
  },
  {
   "cell_type": "code",
   "execution_count": null,
   "outputs": [],
   "source": [
    "reg.fit(X_train, y_train, verbose= 2)"
   ],
   "metadata": {
    "collapsed": false,
    "pycharm": {
     "name": "#%%\n"
    }
   }
  },
  {
   "cell_type": "markdown",
   "source": [
    "## 3. Evaluate the model"
   ],
   "metadata": {
    "collapsed": false,
    "pycharm": {
     "name": "#%% md\n"
    }
   }
  },
  {
   "cell_type": "code",
   "execution_count": null,
   "outputs": [],
   "source": [
    "reg.score(X_test, y_test)"
   ],
   "metadata": {
    "collapsed": false,
    "pycharm": {
     "name": "#%%\n"
    }
   }
  },
  {
   "cell_type": "code",
   "execution_count": null,
   "outputs": [],
   "source": [
    "y_pred = reg.predict(X_test)"
   ],
   "metadata": {
    "collapsed": false,
    "pycharm": {
     "name": "#%%\n"
    }
   }
  },
  {
   "cell_type": "code",
   "execution_count": null,
   "outputs": [],
   "source": [
    "mean_absolute_error(y_test, y_pred)"
   ],
   "metadata": {
    "collapsed": false,
    "pycharm": {
     "name": "#%%\n"
    }
   }
  },
  {
   "cell_type": "code",
   "execution_count": null,
   "outputs": [],
   "source": [
    "mean_absolute_percentage_error(y_test, y_pred)"
   ],
   "metadata": {
    "collapsed": false,
    "pycharm": {
     "name": "#%%\n"
    }
   }
  },
  {
   "cell_type": "code",
   "execution_count": null,
   "outputs": [],
   "source": [
    "mean_squared_error(y_test, y_pred)"
   ],
   "metadata": {
    "collapsed": false,
    "pycharm": {
     "name": "#%%\n"
    }
   }
  },
  {
   "cell_type": "markdown",
   "source": [],
   "metadata": {
    "collapsed": false,
    "pycharm": {
     "name": "#%% md\n"
    }
   }
  }
 ],
 "metadata": {
  "kernelspec": {
   "display_name": "Python 3",
   "language": "python",
   "name": "python3"
  },
  "language_info": {
   "codemirror_mode": {
    "name": "ipython",
    "version": 2
   },
   "file_extension": ".py",
   "mimetype": "text/x-python",
   "name": "python",
   "nbconvert_exporter": "python",
   "pygments_lexer": "ipython2",
   "version": "2.7.6"
  }
 },
 "nbformat": 4,
 "nbformat_minor": 0
}