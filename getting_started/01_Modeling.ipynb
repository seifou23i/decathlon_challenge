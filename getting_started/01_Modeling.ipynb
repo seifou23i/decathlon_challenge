{
 "cells": [
  {
   "cell_type": "markdown",
   "metadata": {
    "collapsed": true,
    "pycharm": {
     "name": "#%% md\n"
    }
   },
   "source": [
    "# Modeling\n",
    "\n",
    "- TODO: add notebook description"
   ]
  },
  {
   "cell_type": "markdown",
   "source": [
    "## Table of contents:\n",
    "\n",
    "* [1. Data loading and preprocessing](#first-enumeration)"
   ],
   "metadata": {
    "collapsed": false,
    "pycharm": {
     "name": "#%% md\n"
    }
   }
  },
  {
   "cell_type": "code",
   "execution_count": 85,
   "outputs": [],
   "source": [
    "import os\n",
    "\n",
    "import numpy as np\n",
    "from sklearn.model_selection import TimeSeriesSplit\n",
    "import pandas as pd\n",
    "from datetime import datetime"
   ],
   "metadata": {
    "collapsed": false,
    "pycharm": {
     "name": "#%%\n"
    }
   }
  },
  {
   "cell_type": "code",
   "execution_count": 86,
   "outputs": [],
   "source": [
    "# Global variable for data relative path\n",
    "DATA_PATH = os.path.abspath(\"../data/inputs\")"
   ],
   "metadata": {
    "collapsed": false,
    "pycharm": {
     "name": "#%%\n"
    }
   }
  },
  {
   "cell_type": "markdown",
   "source": [
    "## 1. Data loading and preprocessing"
   ],
   "metadata": {
    "collapsed": false,
    "pycharm": {
     "name": "#%% md\n"
    }
   }
  },
  {
   "cell_type": "markdown",
   "source": [
    "### 1.1 Data loading"
   ],
   "metadata": {
    "collapsed": false,
    "pycharm": {
     "name": "#%% md\n"
    }
   }
  },
  {
   "cell_type": "code",
   "execution_count": 90,
   "outputs": [],
   "source": [
    "data = pd.read_csv(os.path.join(DATA_PATH, \"train.csv\"))\n",
    "bu_feat = pd.read_csv(os.path.join(DATA_PATH, \"bu_feat.csv\"))"
   ],
   "metadata": {
    "collapsed": false,
    "pycharm": {
     "name": "#%%\n"
    }
   }
  },
  {
   "cell_type": "code",
   "execution_count": 91,
   "outputs": [],
   "source": [
    "data[\"day_id\"] = pd.to_datetime(data[\"day_id\"], infer_datetime_format=True)\n",
    "# set day_id as index\n",
    "data.set_index(\"day_id\", inplace=True)\n",
    "data.insert(0, \"week_num\", data.index.isocalendar().week)"
   ],
   "metadata": {
    "collapsed": false,
    "pycharm": {
     "name": "#%%\n"
    }
   }
  },
  {
   "cell_type": "code",
   "execution_count": 92,
   "outputs": [
    {
     "data": {
      "text/plain": "Index(['week_num', 'but_num_business_unit', 'dpt_num_department', 'turnover'], dtype='object')"
     },
     "execution_count": 92,
     "metadata": {},
     "output_type": "execute_result"
    }
   ],
   "source": [
    "data.columns"
   ],
   "metadata": {
    "collapsed": false,
    "pycharm": {
     "name": "#%%\n"
    }
   }
  },
  {
   "cell_type": "code",
   "execution_count": 94,
   "outputs": [],
   "source": [
    "data = pd.get_dummies(data, columns=[\"week_num\", \"but_num_business_unit\", \"dpt_num_department\"], prefix=[\"week\", \"business_unit\", \"department\"])"
   ],
   "metadata": {
    "collapsed": false,
    "pycharm": {
     "name": "#%%\n"
    }
   }
  },
  {
   "cell_type": "markdown",
   "source": [
    "### 1.2 Data preprocessing"
   ],
   "metadata": {
    "collapsed": false,
    "pycharm": {
     "name": "#%% md\n"
    }
   }
  },
  {
   "cell_type": "code",
   "execution_count": 4,
   "outputs": [],
   "source": [
    "def preprocess_data(data):\n",
    "    #format day_id as datetime type\n",
    "    data[\"day_id\"] = pd.to_datetime(data[\"day_id\"], infer_datetime_format=True)\n",
    "    # set day_id as index\n",
    "    data.set_index(\"day_id\", inplace=True)\n",
    "    data.insert(0, \"week_num\", data.index.isocalendar().week)\n",
    "\n",
    "    data_dummies = pd.get_dummies()\n",
    "    # create one hot encoding of business units\n",
    "    #business_units_one_hot_encoded = pd.get_dummies(train_data[\"but_num_business_unit\"], prefix=\"business_unit\")\n",
    "    # create one hot encoding of departments\n",
    "    #department_one_hot_encoded = pd.get_dummies(train_data[\"dpt_num_department\"], prefix=\"department\")\n",
    "    # concat the one hot encoded features\n",
    "    #data = pd.concat([department_one_hot_encoded, business_units_one_hot_encoded, data[\"turnover\"]], axis=1)\n",
    "    # add week number to data\n",
    "\n",
    "    # sort data\n",
    "    data.sort_index(inplace=True)\n",
    "    return data"
   ],
   "metadata": {
    "collapsed": false,
    "pycharm": {
     "name": "#%%\n"
    }
   }
  },
  {
   "cell_type": "code",
   "execution_count": 5,
   "outputs": [],
   "source": [
    "data = preprocess_data(data)"
   ],
   "metadata": {
    "collapsed": false,
    "pycharm": {
     "name": "#%%\n"
    }
   }
  },
  {
   "cell_type": "code",
   "execution_count": 6,
   "outputs": [
    {
     "data": {
      "text/plain": "            week_num  but_num_business_unit  dpt_num_department    turnover\nday_id                                                                     \n2012-12-29        52                     54                  73   53.337413\n2012-12-29        52                    255                  73    0.000000\n2012-12-29        52                    812                  73   43.619478\n2012-12-29        52                     24                  73    5.237134\n2012-12-29        52                    201                 127  825.383999\n...              ...                    ...                 ...         ...\n2017-09-30        39                     64                  73    8.415006\n2017-09-30        39                    242                 117    1.522201\n2017-09-30        39                    363                  88  242.183759\n2017-09-30        39                     15                  73   21.409645\n2017-09-30        39                     64                 127  580.308443\n\n[277719 rows x 4 columns]",
      "text/html": "<div>\n<style scoped>\n    .dataframe tbody tr th:only-of-type {\n        vertical-align: middle;\n    }\n\n    .dataframe tbody tr th {\n        vertical-align: top;\n    }\n\n    .dataframe thead th {\n        text-align: right;\n    }\n</style>\n<table border=\"1\" class=\"dataframe\">\n  <thead>\n    <tr style=\"text-align: right;\">\n      <th></th>\n      <th>week_num</th>\n      <th>but_num_business_unit</th>\n      <th>dpt_num_department</th>\n      <th>turnover</th>\n    </tr>\n    <tr>\n      <th>day_id</th>\n      <th></th>\n      <th></th>\n      <th></th>\n      <th></th>\n    </tr>\n  </thead>\n  <tbody>\n    <tr>\n      <th>2012-12-29</th>\n      <td>52</td>\n      <td>54</td>\n      <td>73</td>\n      <td>53.337413</td>\n    </tr>\n    <tr>\n      <th>2012-12-29</th>\n      <td>52</td>\n      <td>255</td>\n      <td>73</td>\n      <td>0.000000</td>\n    </tr>\n    <tr>\n      <th>2012-12-29</th>\n      <td>52</td>\n      <td>812</td>\n      <td>73</td>\n      <td>43.619478</td>\n    </tr>\n    <tr>\n      <th>2012-12-29</th>\n      <td>52</td>\n      <td>24</td>\n      <td>73</td>\n      <td>5.237134</td>\n    </tr>\n    <tr>\n      <th>2012-12-29</th>\n      <td>52</td>\n      <td>201</td>\n      <td>127</td>\n      <td>825.383999</td>\n    </tr>\n    <tr>\n      <th>...</th>\n      <td>...</td>\n      <td>...</td>\n      <td>...</td>\n      <td>...</td>\n    </tr>\n    <tr>\n      <th>2017-09-30</th>\n      <td>39</td>\n      <td>64</td>\n      <td>73</td>\n      <td>8.415006</td>\n    </tr>\n    <tr>\n      <th>2017-09-30</th>\n      <td>39</td>\n      <td>242</td>\n      <td>117</td>\n      <td>1.522201</td>\n    </tr>\n    <tr>\n      <th>2017-09-30</th>\n      <td>39</td>\n      <td>363</td>\n      <td>88</td>\n      <td>242.183759</td>\n    </tr>\n    <tr>\n      <th>2017-09-30</th>\n      <td>39</td>\n      <td>15</td>\n      <td>73</td>\n      <td>21.409645</td>\n    </tr>\n    <tr>\n      <th>2017-09-30</th>\n      <td>39</td>\n      <td>64</td>\n      <td>127</td>\n      <td>580.308443</td>\n    </tr>\n  </tbody>\n</table>\n<p>277719 rows × 4 columns</p>\n</div>"
     },
     "execution_count": 6,
     "metadata": {},
     "output_type": "execute_result"
    }
   ],
   "source": [
    "data"
   ],
   "metadata": {
    "collapsed": false,
    "pycharm": {
     "name": "#%%\n"
    }
   }
  },
  {
   "cell_type": "code",
   "execution_count": 95,
   "outputs": [],
   "source": [
    "train_idx = data.index.date <= datetime(year=2017, month=8, day=31).date()"
   ],
   "metadata": {
    "collapsed": false,
    "pycharm": {
     "name": "#%%\n"
    }
   }
  },
  {
   "cell_type": "code",
   "execution_count": 96,
   "outputs": [],
   "source": [
    "X = data.drop(labels=['turnover'], axis=1)\n",
    "y = data['turnover']"
   ],
   "metadata": {
    "collapsed": false,
    "pycharm": {
     "name": "#%%\n"
    }
   }
  },
  {
   "cell_type": "code",
   "execution_count": 97,
   "outputs": [],
   "source": [
    "X_train, y_train = X.loc[train_idx], y.loc[train_idx]\n",
    "X_test, y_test = X.loc[~train_idx], y.loc[~train_idx]"
   ],
   "metadata": {
    "collapsed": false,
    "pycharm": {
     "name": "#%%\n"
    }
   }
  },
  {
   "cell_type": "code",
   "execution_count": 98,
   "outputs": [],
   "source": [
    "from sklearn.ensemble import ExtraTreesRegressor\n",
    "from sklearn.metrics import mean_absolute_error, mean_absolute_percentage_error, mean_squared_error, mean_squared_log_error"
   ],
   "metadata": {
    "collapsed": false,
    "pycharm": {
     "name": "#%%\n"
    }
   }
  },
  {
   "cell_type": "code",
   "execution_count": 99,
   "outputs": [],
   "source": [
    "reg = ExtraTreesRegressor(n_estimators=300, random_state=0)"
   ],
   "metadata": {
    "collapsed": false,
    "pycharm": {
     "name": "#%%\n"
    }
   }
  },
  {
   "cell_type": "code",
   "execution_count": null,
   "outputs": [],
   "source": [
    "reg.fit(X_train, y_train)"
   ],
   "metadata": {
    "collapsed": false,
    "pycharm": {
     "name": "#%%\n",
     "is_executing": true
    }
   }
  },
  {
   "cell_type": "code",
   "execution_count": null,
   "outputs": [],
   "source": [
    "reg.score(X_test, y_test)"
   ],
   "metadata": {
    "collapsed": false,
    "pycharm": {
     "name": "#%%\n",
     "is_executing": true
    }
   }
  },
  {
   "cell_type": "code",
   "execution_count": null,
   "outputs": [],
   "source": [
    "y_pred = reg.predict(X_test)"
   ],
   "metadata": {
    "collapsed": false,
    "pycharm": {
     "name": "#%%\n",
     "is_executing": true
    }
   }
  },
  {
   "cell_type": "code",
   "execution_count": null,
   "outputs": [],
   "source": [
    "mean_absolute_error(y_test, y_pred)"
   ],
   "metadata": {
    "collapsed": false,
    "pycharm": {
     "name": "#%%\n",
     "is_executing": true
    }
   }
  },
  {
   "cell_type": "code",
   "execution_count": null,
   "outputs": [],
   "source": [
    "mean_absolute_percentage_error(y_test, y_pred)"
   ],
   "metadata": {
    "collapsed": false,
    "pycharm": {
     "name": "#%%\n",
     "is_executing": true
    }
   }
  },
  {
   "cell_type": "code",
   "execution_count": null,
   "outputs": [],
   "source": [
    "mean_squared_error(y_test, y_pred)"
   ],
   "metadata": {
    "collapsed": false,
    "pycharm": {
     "name": "#%%\n",
     "is_executing": true
    }
   }
  },
  {
   "cell_type": "code",
   "execution_count": null,
   "outputs": [],
   "source": [
    "y_pred.shape"
   ],
   "metadata": {
    "collapsed": false,
    "pycharm": {
     "name": "#%%\n",
     "is_executing": true
    }
   }
  },
  {
   "cell_type": "code",
   "execution_count": null,
   "outputs": [],
   "source": [
    "y_test.to_numpy()"
   ],
   "metadata": {
    "collapsed": false,
    "pycharm": {
     "name": "#%%\n",
     "is_executing": true
    }
   }
  },
  {
   "cell_type": "code",
   "execution_count": null,
   "outputs": [],
   "source": [
    "y_pred"
   ],
   "metadata": {
    "collapsed": false,
    "pycharm": {
     "name": "#%%\n",
     "is_executing": true
    }
   }
  },
  {
   "cell_type": "code",
   "execution_count": null,
   "outputs": [],
   "source": [
    "from sklearn.ensemble import RandomForestRegressor"
   ],
   "metadata": {
    "collapsed": false,
    "pycharm": {
     "name": "#%%\n",
     "is_executing": true
    }
   }
  },
  {
   "cell_type": "code",
   "execution_count": null,
   "outputs": [],
   "source": [
    "rf_reg = RandomForestRegressor(n_estimators=100)"
   ],
   "metadata": {
    "collapsed": false,
    "pycharm": {
     "name": "#%%\n",
     "is_executing": true
    }
   }
  },
  {
   "cell_type": "code",
   "execution_count": null,
   "outputs": [],
   "source": [
    "rf_reg.fit(X_train, y_train)"
   ],
   "metadata": {
    "collapsed": false,
    "pycharm": {
     "name": "#%%\n",
     "is_executing": true
    }
   }
  },
  {
   "cell_type": "code",
   "execution_count": null,
   "outputs": [],
   "source": [
    "y_pred = rf_reg.predict(X_test)"
   ],
   "metadata": {
    "collapsed": false,
    "pycharm": {
     "name": "#%%\n",
     "is_executing": true
    }
   }
  },
  {
   "cell_type": "code",
   "execution_count": null,
   "outputs": [],
   "source": [
    "mean_absolute_error(y_test, y_pred)"
   ],
   "metadata": {
    "collapsed": false,
    "pycharm": {
     "name": "#%%\n",
     "is_executing": true
    }
   }
  },
  {
   "cell_type": "markdown",
   "source": [],
   "metadata": {
    "collapsed": false,
    "pycharm": {
     "name": "#%% md\n"
    }
   }
  }
 ],
 "metadata": {
  "kernelspec": {
   "display_name": "Python 3",
   "language": "python",
   "name": "python3"
  },
  "language_info": {
   "codemirror_mode": {
    "name": "ipython",
    "version": 2
   },
   "file_extension": ".py",
   "mimetype": "text/x-python",
   "name": "python",
   "nbconvert_exporter": "python",
   "pygments_lexer": "ipython2",
   "version": "2.7.6"
  }
 },
 "nbformat": 4,
 "nbformat_minor": 0
}